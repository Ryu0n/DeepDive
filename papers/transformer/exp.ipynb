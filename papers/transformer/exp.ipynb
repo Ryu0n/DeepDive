{
 "cells": [
  {
   "cell_type": "code",
   "execution_count": 1,
   "metadata": {},
   "outputs": [],
   "source": [
    "from model import Transformer"
   ]
  },
  {
   "cell_type": "code",
   "execution_count": 2,
   "metadata": {},
   "outputs": [
    {
     "data": {
      "text/plain": [
       "Transformer(\n",
       "  (encoder): Encoder(\n",
       "    (embedding): Embedding(10000, 512)\n",
       "    (positional_encoding): PositionalEncoding()\n",
       "    (encoder_blocks): ModuleList(\n",
       "      (0-5): 6 x EncoderBlock(\n",
       "        (self_attention): MultiHeadAttention(\n",
       "          (mat_query): Linear(in_features=512, out_features=512, bias=True)\n",
       "          (mat_key): Linear(in_features=512, out_features=512, bias=True)\n",
       "          (mat_value): Linear(in_features=512, out_features=512, bias=True)\n",
       "          (mat_out): Linear(in_features=512, out_features=512, bias=True)\n",
       "        )\n",
       "        (layer_norm1): LayerNorm((512,), eps=1e-05, elementwise_affine=True)\n",
       "        (feed_forward): FeedForwardNetwork(\n",
       "          (fc1): Linear(in_features=512, out_features=2048, bias=True)\n",
       "          (relu): ReLU()\n",
       "          (fc2): Linear(in_features=2048, out_features=512, bias=True)\n",
       "        )\n",
       "        (layer_norm2): LayerNorm((512,), eps=1e-05, elementwise_affine=True)\n",
       "      )\n",
       "    )\n",
       "  )\n",
       "  (decoder): Decoder(\n",
       "    (embedding): Embedding(10000, 512)\n",
       "    (positional_encoding): PositionalEncoding()\n",
       "    (decoder_blocks): ModuleList(\n",
       "      (0-5): 6 x DecoderBlock(\n",
       "        (masked_self_attention): MultiHeadAttention(\n",
       "          (mat_query): Linear(in_features=512, out_features=512, bias=True)\n",
       "          (mat_key): Linear(in_features=512, out_features=512, bias=True)\n",
       "          (mat_value): Linear(in_features=512, out_features=512, bias=True)\n",
       "          (mat_out): Linear(in_features=512, out_features=512, bias=True)\n",
       "        )\n",
       "        (layer_norm1): LayerNorm((512,), eps=1e-05, elementwise_affine=True)\n",
       "        (cross_attention): MultiHeadAttention(\n",
       "          (mat_query): Linear(in_features=512, out_features=512, bias=True)\n",
       "          (mat_key): Linear(in_features=512, out_features=512, bias=True)\n",
       "          (mat_value): Linear(in_features=512, out_features=512, bias=True)\n",
       "          (mat_out): Linear(in_features=512, out_features=512, bias=True)\n",
       "        )\n",
       "        (layer_norm2): LayerNorm((512,), eps=1e-05, elementwise_affine=True)\n",
       "        (feed_forward): FeedForwardNetwork(\n",
       "          (fc1): Linear(in_features=512, out_features=2048, bias=True)\n",
       "          (relu): ReLU()\n",
       "          (fc2): Linear(in_features=2048, out_features=512, bias=True)\n",
       "        )\n",
       "        (layer_norm3): LayerNorm((512,), eps=1e-05, elementwise_affine=True)\n",
       "      )\n",
       "    )\n",
       "    (linear): Linear(in_features=512, out_features=10000, bias=True)\n",
       "  )\n",
       ")"
      ]
     },
     "execution_count": 2,
     "metadata": {},
     "output_type": "execute_result"
    }
   ],
   "source": [
    "model = Transformer()\n",
    "model"
   ]
  },
  {
   "cell_type": "code",
   "execution_count": 3,
   "metadata": {},
   "outputs": [],
   "source": [
    "import torch"
   ]
  },
  {
   "cell_type": "code",
   "execution_count": 4,
   "metadata": {},
   "outputs": [
    {
     "data": {
      "text/plain": [
       "torch.Size([32, 64])"
      ]
     },
     "execution_count": 4,
     "metadata": {},
     "output_type": "execute_result"
    }
   ],
   "source": [
    "r1 = torch.randint(low=0, high=10000, size=(32, 64))\n",
    "r1.shape"
   ]
  },
  {
   "cell_type": "code",
   "execution_count": 5,
   "metadata": {},
   "outputs": [
    {
     "data": {
      "text/plain": [
       "torch.Size([32, 64, 512])"
      ]
     },
     "execution_count": 5,
     "metadata": {},
     "output_type": "execute_result"
    }
   ],
   "source": [
    "model.encode(r1).shape"
   ]
  },
  {
   "cell_type": "code",
   "execution_count": 6,
   "metadata": {},
   "outputs": [
    {
     "data": {
      "text/plain": [
       "torch.Size([32, 64])"
      ]
     },
     "execution_count": 6,
     "metadata": {},
     "output_type": "execute_result"
    }
   ],
   "source": [
    "r2 = torch.randint(low=0, high=10000, size=(32, 64))\n",
    "r2.shape"
   ]
  },
  {
   "cell_type": "code",
   "execution_count": 8,
   "metadata": {},
   "outputs": [
    {
     "data": {
      "text/plain": [
       "torch.Size([32, 64, 10000])"
      ]
     },
     "execution_count": 8,
     "metadata": {},
     "output_type": "execute_result"
    }
   ],
   "source": [
    "logits = model(r1, r2)\n",
    "logits.shape"
   ]
  },
  {
   "cell_type": "code",
   "execution_count": null,
   "metadata": {},
   "outputs": [],
   "source": []
  }
 ],
 "metadata": {
  "kernelspec": {
   "display_name": "DeepImplement",
   "language": "python",
   "name": "python3"
  },
  "language_info": {
   "codemirror_mode": {
    "name": "ipython",
    "version": 3
   },
   "file_extension": ".py",
   "mimetype": "text/x-python",
   "name": "python",
   "nbconvert_exporter": "python",
   "pygments_lexer": "ipython3",
   "version": "3.8.0"
  },
  "orig_nbformat": 4
 },
 "nbformat": 4,
 "nbformat_minor": 2
}
