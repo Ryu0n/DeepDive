{
 "cells": [
  {
   "cell_type": "code",
   "execution_count": 1,
   "metadata": {},
   "outputs": [],
   "source": [
    "import wandb\n",
    "import aiohttp\n",
    "import asyncio\n",
    "import pandas as pd\n",
    "from typing import List\n",
    "from tqdm import tqdm"
   ]
  },
  {
   "cell_type": "code",
   "execution_count": 19,
   "metadata": {},
   "outputs": [
    {
     "name": "stdout",
     "output_type": "stream",
     "text": [
      "5\n",
      "0 맥도날드에선 리필 안됨\n",
      "1 [맥도날드x뉴진스] 색다른 차원의 빠삭함, 맥크리스피(Full ver.) https://t.co/c5lS9CaUdA  Newjeansちゃんたち出てるから見てみたらクリスピーめっちゃ美味しそうで、今週末はマクドナルドに決定です https://t.co/qW6KI55Nlw\n",
      "2 저녁을 먹으러 맥도날드에 오다.\n",
      "3 뭐?어제 맥도날드를 가는바람에 KFC를 안갔다고?\n",
      "4 [맥도날드x뉴진스] 색다른 차원의 빠삭함, 맥크리스피(Full ver.) https://t.co/goVgRTVUyo @YouTubeより\n"
     ]
    }
   ],
   "source": [
    "url = 'http://k8s.mysterico.com:31464/analyzer/niz_sample_data/generate'\n",
    "\n",
    "async with aiohttp.ClientSession() as sess:\n",
    "    response = await sess.post(\n",
    "        url=url,\n",
    "        json={\n",
    "            \"size_per_channel\": 5,\n",
    "            \"target_keyword\": [\"맥도날드\"],\n",
    "            \"start_date\": \"2023-03-10T00:00:00.000Z\",\n",
    "            \"end_date\": \"2023-03-17T00:00:00.000Z\",\n",
    "            \"channel\": [\"twitter\"],\n",
    "            # \"search_keyword\": [\"AI\"],\n",
    "            \"spam_doc_type\": [\n",
    "                \"profit\",\n",
    "                \"press\"\n",
    "            ],\n",
    "            \"spam_category\": [\n",
    "                \"defaultSpam\",\n",
    "                \"trade\",\n",
    "                \"cafeActivity\",\n",
    "                \"economy\"\n",
    "            ],\n",
    "            \"remove_empty_content\": True,\n",
    "            \"include\": [\"channel\"]\n",
    "        }\n",
    "    )\n",
    "    result = await response.json()\n",
    "    texts = [\n",
    "        r.get('contentPlainText').replace('\\n', ' ').replace('\\u200b', '') for r in result.get('documents')\n",
    "    ]\n",
    "    print(len(texts))\n",
    "    for i, text in enumerate(texts):\n",
    "        print(i, text)"
   ]
  },
  {
   "attachments": {},
   "cell_type": "markdown",
   "metadata": {},
   "source": [
    "# Legacy category model"
   ]
  },
  {
   "cell_type": "code",
   "execution_count": 2,
   "metadata": {},
   "outputs": [],
   "source": [
    "async def request_legacy_category(text: str):\n",
    "    async with aiohttp.ClientSession() as sess:\n",
    "        response = await sess.post(\n",
    "            url='http://k8s.mysterico.com:31464/model-server/category-model/classify',\n",
    "            json={\n",
    "                \"text\": text\n",
    "            }\n",
    "        )\n",
    "        result = await response.json()\n",
    "        return result"
   ]
  },
  {
   "cell_type": "code",
   "execution_count": 7,
   "metadata": {},
   "outputs": [
    {
     "data": {
      "text/plain": [
       "{'model': 'CategoryClassifier',\n",
       " 'result': [{'category': 'price', 'result': False, 'rank': 255},\n",
       "  {'category': 'quality', 'result': False, 'rank': 255},\n",
       "  {'category': 'design', 'result': False, 'rank': 255},\n",
       "  {'category': 'service', 'result': False, 'rank': 255},\n",
       "  {'category': 'etc', 'result': False, 'rank': 255}]}"
      ]
     },
     "execution_count": 7,
     "metadata": {},
     "output_type": "execute_result"
    }
   ],
   "source": [
    "await request_legacy_category('맥도날드 맥크리스피 가격 너무 비싼거아님?!')"
   ]
  },
  {
   "cell_type": "code",
   "execution_count": 2,
   "metadata": {},
   "outputs": [],
   "source": [
    "df_file_names = [\n",
    "    'eval/df_가격_20000_test.csv',\n",
    "    'eval/df_디자인_20000_test.csv',\n",
    "    # 'eval/df_브랜드제품기타_20000_test.csv',\n",
    "    'eval/df_서비스_20000_test.csv',\n",
    "    'eval/df_품질_20000_test.csv'\n",
    "]\n",
    "df_price, df_design, df_service, df_quality = [\n",
    "    pd.read_csv(df_file_name) for df_file_name in df_file_names\n",
    "]"
   ]
  },
  {
   "cell_type": "code",
   "execution_count": 14,
   "metadata": {},
   "outputs": [],
   "source": [
    "text_price = df_price['text'].to_list()\n",
    "label_price = df_price['가격'].to_list()\n",
    "\n",
    "preds = list()\n",
    "for text in tqdm(text_price):\n",
    "    result = await request_legacy_category(text)\n",
    "    for r in result.get('result'):\n",
    "        if r.get('category') == 'price':\n",
    "            label = 1.0 if r.get('result') == True else 0.0\n",
    "            preds.append(label)\n",
    "            \n",
    "from sklearn.metrics import f1_score\n",
    "f1_score(label_price, preds)"
   ]
  },
  {
   "cell_type": "code",
   "execution_count": 22,
   "metadata": {},
   "outputs": [
    {
     "name": "stderr",
     "output_type": "stream",
     "text": [
      "100%|██████████| 2706/2706 [04:28<00:00, 10.07it/s]\n"
     ]
    },
    {
     "data": {
      "text/plain": [
       "0.7631695440460382"
      ]
     },
     "execution_count": 22,
     "metadata": {},
     "output_type": "execute_result"
    }
   ],
   "source": [
    "text_design = df_design['text'].to_list()\n",
    "label_design = df_design['디자인'].to_list()\n",
    "\n",
    "preds = list()\n",
    "for text in tqdm(text_design):\n",
    "    result = await request_legacy_category(text)\n",
    "    for r in result.get('result'):\n",
    "        if r.get('category') == 'design':\n",
    "            label = 1.0 if r.get('result') == True else 0.0\n",
    "            preds.append(label)\n",
    "            \n",
    "from sklearn.metrics import f1_score\n",
    "f1_score(label_design, preds)"
   ]
  },
  {
   "cell_type": "code",
   "execution_count": 4,
   "metadata": {},
   "outputs": [
    {
     "name": "stderr",
     "output_type": "stream",
     "text": [
      "100%|██████████| 4128/4128 [07:13<00:00,  9.52it/s]\n"
     ]
    },
    {
     "data": {
      "text/plain": [
       "0.8446000538647993"
      ]
     },
     "execution_count": 4,
     "metadata": {},
     "output_type": "execute_result"
    }
   ],
   "source": [
    "text_service = df_service['text'].to_list()\n",
    "label_service = df_service['서비스'].to_list()\n",
    "\n",
    "preds = list()\n",
    "for text in tqdm(text_service):\n",
    "    result = await request_legacy_category(text)\n",
    "    for r in result.get('result'):\n",
    "        if r.get('category') == 'service':\n",
    "            label = 1.0 if r.get('result') == True else 0.0\n",
    "            preds.append(label)\n",
    "            \n",
    "from sklearn.metrics import f1_score\n",
    "f1_score(label_service, preds)"
   ]
  },
  {
   "cell_type": "code",
   "execution_count": 5,
   "metadata": {},
   "outputs": [
    {
     "name": "stderr",
     "output_type": "stream",
     "text": [
      "100%|██████████| 12992/12992 [25:18<00:00,  8.56it/s]  \n"
     ]
    },
    {
     "data": {
      "text/plain": [
       "0.8689300240723831"
      ]
     },
     "execution_count": 5,
     "metadata": {},
     "output_type": "execute_result"
    }
   ],
   "source": [
    "text_quality = df_quality['text'].to_list()\n",
    "label_quality = df_quality['품질'].to_list()\n",
    "\n",
    "preds = list()\n",
    "for text in tqdm(text_quality):\n",
    "    result = await request_legacy_category(text)\n",
    "    for r in result.get('result'):\n",
    "        if r.get('category') == 'quality':\n",
    "            label = 1.0 if r.get('result') == True else 0.0\n",
    "            preds.append(label)\n",
    "            \n",
    "from sklearn.metrics import f1_score\n",
    "f1_score(label_quality, preds)"
   ]
  },
  {
   "cell_type": "code",
   "execution_count": 6,
   "metadata": {},
   "outputs": [
    {
     "name": "stderr",
     "output_type": "stream",
     "text": [
      "Failed to detect the name of this notebook, you can set it manually with the WANDB_NOTEBOOK_NAME environment variable to enable code saving.\n",
      "\u001b[34m\u001b[1mwandb\u001b[0m: Currently logged in as: \u001b[33mhsung951027\u001b[0m (\u001b[33mmysterico\u001b[0m). Use \u001b[1m`wandb login --relogin`\u001b[0m to force relogin\n"
     ]
    },
    {
     "data": {
      "text/plain": [
       "True"
      ]
     },
     "execution_count": 6,
     "metadata": {},
     "output_type": "execute_result"
    }
   ],
   "source": [
    "wandb.login()"
   ]
  },
  {
   "cell_type": "code",
   "execution_count": 7,
   "metadata": {},
   "outputs": [
    {
     "data": {
      "text/html": [
       "Tracking run with wandb version 0.14.0"
      ],
      "text/plain": [
       "<IPython.core.display.HTML object>"
      ]
     },
     "metadata": {},
     "output_type": "display_data"
    },
    {
     "data": {
      "text/html": [
       "Run data is saved locally in <code>/Users/hongseong-gyu/Documents/Github/Data-analyzer-api-server/category-classifier-renew/wandb/run-20230321_142037-xmb8oseh</code>"
      ],
      "text/plain": [
       "<IPython.core.display.HTML object>"
      ]
     },
     "metadata": {},
     "output_type": "display_data"
    },
    {
     "data": {
      "text/html": [
       "Syncing run <strong><a href='https://wandb.ai/mysterico/optimize-category-model/runs/xmb8oseh' target=\"_blank\">legacy-price</a></strong> to <a href='https://wandb.ai/mysterico/optimize-category-model' target=\"_blank\">Weights & Biases</a> (<a href='https://wandb.me/run' target=\"_blank\">docs</a>)<br/>"
      ],
      "text/plain": [
       "<IPython.core.display.HTML object>"
      ]
     },
     "metadata": {},
     "output_type": "display_data"
    },
    {
     "data": {
      "text/html": [
       " View project at <a href='https://wandb.ai/mysterico/optimize-category-model' target=\"_blank\">https://wandb.ai/mysterico/optimize-category-model</a>"
      ],
      "text/plain": [
       "<IPython.core.display.HTML object>"
      ]
     },
     "metadata": {},
     "output_type": "display_data"
    },
    {
     "data": {
      "text/html": [
       " View run at <a href='https://wandb.ai/mysterico/optimize-category-model/runs/xmb8oseh' target=\"_blank\">https://wandb.ai/mysterico/optimize-category-model/runs/xmb8oseh</a>"
      ],
      "text/plain": [
       "<IPython.core.display.HTML object>"
      ]
     },
     "metadata": {},
     "output_type": "display_data"
    },
    {
     "data": {
      "text/html": [
       "Finishing last run (ID:xmb8oseh) before initializing another..."
      ],
      "text/plain": [
       "<IPython.core.display.HTML object>"
      ]
     },
     "metadata": {},
     "output_type": "display_data"
    },
    {
     "data": {
      "text/html": [
       "Waiting for W&B process to finish... <strong style=\"color:green\">(success).</strong>"
      ],
      "text/plain": [
       "<IPython.core.display.HTML object>"
      ]
     },
     "metadata": {},
     "output_type": "display_data"
    },
    {
     "data": {
      "text/html": [
       "<style>\n",
       "    table.wandb td:nth-child(1) { padding: 0 10px; text-align: left ; width: auto;} td:nth-child(2) {text-align: left ; width: 100%}\n",
       "    .wandb-row { display: flex; flex-direction: row; flex-wrap: wrap; justify-content: flex-start; width: 100% }\n",
       "    .wandb-col { display: flex; flex-direction: column; flex-basis: 100%; flex: 1; padding: 10px; }\n",
       "    </style>\n",
       "<div class=\"wandb-row\"><div class=\"wandb-col\"><h3>Run history:</h3><br/><table class=\"wandb\"><tr><td>f1 score</td><td>▁</td></tr></table><br/></div><div class=\"wandb-col\"><h3>Run summary:</h3><br/><table class=\"wandb\"><tr><td>f1 score</td><td>0.88985</td></tr></table><br/></div></div>"
      ],
      "text/plain": [
       "<IPython.core.display.HTML object>"
      ]
     },
     "metadata": {},
     "output_type": "display_data"
    },
    {
     "data": {
      "text/html": [
       " View run <strong style=\"color:#cdcd00\">legacy-price</strong> at: <a href='https://wandb.ai/mysterico/optimize-category-model/runs/xmb8oseh' target=\"_blank\">https://wandb.ai/mysterico/optimize-category-model/runs/xmb8oseh</a><br/>Synced 5 W&B file(s), 0 media file(s), 0 artifact file(s) and 0 other file(s)"
      ],
      "text/plain": [
       "<IPython.core.display.HTML object>"
      ]
     },
     "metadata": {},
     "output_type": "display_data"
    },
    {
     "data": {
      "text/html": [
       "Find logs at: <code>./wandb/run-20230321_142037-xmb8oseh/logs</code>"
      ],
      "text/plain": [
       "<IPython.core.display.HTML object>"
      ]
     },
     "metadata": {},
     "output_type": "display_data"
    },
    {
     "data": {
      "text/html": [
       "Successfully finished last run (ID:xmb8oseh). Initializing new run:<br/>"
      ],
      "text/plain": [
       "<IPython.core.display.HTML object>"
      ]
     },
     "metadata": {},
     "output_type": "display_data"
    },
    {
     "data": {
      "text/html": [
       "Tracking run with wandb version 0.14.0"
      ],
      "text/plain": [
       "<IPython.core.display.HTML object>"
      ]
     },
     "metadata": {},
     "output_type": "display_data"
    },
    {
     "data": {
      "text/html": [
       "Run data is saved locally in <code>/Users/hongseong-gyu/Documents/Github/Data-analyzer-api-server/category-classifier-renew/wandb/run-20230321_142624-foww4z1q</code>"
      ],
      "text/plain": [
       "<IPython.core.display.HTML object>"
      ]
     },
     "metadata": {},
     "output_type": "display_data"
    },
    {
     "data": {
      "text/html": [
       "Syncing run <strong><a href='https://wandb.ai/mysterico/optimize-category-model/runs/foww4z1q' target=\"_blank\">legacy-design</a></strong> to <a href='https://wandb.ai/mysterico/optimize-category-model' target=\"_blank\">Weights & Biases</a> (<a href='https://wandb.me/run' target=\"_blank\">docs</a>)<br/>"
      ],
      "text/plain": [
       "<IPython.core.display.HTML object>"
      ]
     },
     "metadata": {},
     "output_type": "display_data"
    },
    {
     "data": {
      "text/html": [
       " View project at <a href='https://wandb.ai/mysterico/optimize-category-model' target=\"_blank\">https://wandb.ai/mysterico/optimize-category-model</a>"
      ],
      "text/plain": [
       "<IPython.core.display.HTML object>"
      ]
     },
     "metadata": {},
     "output_type": "display_data"
    },
    {
     "data": {
      "text/html": [
       " View run at <a href='https://wandb.ai/mysterico/optimize-category-model/runs/foww4z1q' target=\"_blank\">https://wandb.ai/mysterico/optimize-category-model/runs/foww4z1q</a>"
      ],
      "text/plain": [
       "<IPython.core.display.HTML object>"
      ]
     },
     "metadata": {},
     "output_type": "display_data"
    },
    {
     "data": {
      "text/html": [
       "Finishing last run (ID:foww4z1q) before initializing another..."
      ],
      "text/plain": [
       "<IPython.core.display.HTML object>"
      ]
     },
     "metadata": {},
     "output_type": "display_data"
    },
    {
     "data": {
      "text/html": [
       "Waiting for W&B process to finish... <strong style=\"color:green\">(success).</strong>"
      ],
      "text/plain": [
       "<IPython.core.display.HTML object>"
      ]
     },
     "metadata": {},
     "output_type": "display_data"
    },
    {
     "data": {
      "text/html": [
       "<style>\n",
       "    table.wandb td:nth-child(1) { padding: 0 10px; text-align: left ; width: auto;} td:nth-child(2) {text-align: left ; width: 100%}\n",
       "    .wandb-row { display: flex; flex-direction: row; flex-wrap: wrap; justify-content: flex-start; width: 100% }\n",
       "    .wandb-col { display: flex; flex-direction: column; flex-basis: 100%; flex: 1; padding: 10px; }\n",
       "    </style>\n",
       "<div class=\"wandb-row\"><div class=\"wandb-col\"><h3>Run history:</h3><br/><table class=\"wandb\"><tr><td>f1 score</td><td>▁</td></tr></table><br/></div><div class=\"wandb-col\"><h3>Run summary:</h3><br/><table class=\"wandb\"><tr><td>f1 score</td><td>0.7589</td></tr></table><br/></div></div>"
      ],
      "text/plain": [
       "<IPython.core.display.HTML object>"
      ]
     },
     "metadata": {},
     "output_type": "display_data"
    },
    {
     "data": {
      "text/html": [
       " View run <strong style=\"color:#cdcd00\">legacy-design</strong> at: <a href='https://wandb.ai/mysterico/optimize-category-model/runs/foww4z1q' target=\"_blank\">https://wandb.ai/mysterico/optimize-category-model/runs/foww4z1q</a><br/>Synced 5 W&B file(s), 0 media file(s), 0 artifact file(s) and 0 other file(s)"
      ],
      "text/plain": [
       "<IPython.core.display.HTML object>"
      ]
     },
     "metadata": {},
     "output_type": "display_data"
    },
    {
     "data": {
      "text/html": [
       "Find logs at: <code>./wandb/run-20230321_142624-foww4z1q/logs</code>"
      ],
      "text/plain": [
       "<IPython.core.display.HTML object>"
      ]
     },
     "metadata": {},
     "output_type": "display_data"
    },
    {
     "data": {
      "text/html": [
       "Successfully finished last run (ID:foww4z1q). Initializing new run:<br/>"
      ],
      "text/plain": [
       "<IPython.core.display.HTML object>"
      ]
     },
     "metadata": {},
     "output_type": "display_data"
    },
    {
     "data": {
      "text/html": [
       "Tracking run with wandb version 0.14.0"
      ],
      "text/plain": [
       "<IPython.core.display.HTML object>"
      ]
     },
     "metadata": {},
     "output_type": "display_data"
    },
    {
     "data": {
      "text/html": [
       "Run data is saved locally in <code>/Users/hongseong-gyu/Documents/Github/Data-analyzer-api-server/category-classifier-renew/wandb/run-20230321_143120-g9ip5ssl</code>"
      ],
      "text/plain": [
       "<IPython.core.display.HTML object>"
      ]
     },
     "metadata": {},
     "output_type": "display_data"
    },
    {
     "data": {
      "text/html": [
       "Syncing run <strong><a href='https://wandb.ai/mysterico/optimize-category-model/runs/g9ip5ssl' target=\"_blank\">legacy-service</a></strong> to <a href='https://wandb.ai/mysterico/optimize-category-model' target=\"_blank\">Weights & Biases</a> (<a href='https://wandb.me/run' target=\"_blank\">docs</a>)<br/>"
      ],
      "text/plain": [
       "<IPython.core.display.HTML object>"
      ]
     },
     "metadata": {},
     "output_type": "display_data"
    },
    {
     "data": {
      "text/html": [
       " View project at <a href='https://wandb.ai/mysterico/optimize-category-model' target=\"_blank\">https://wandb.ai/mysterico/optimize-category-model</a>"
      ],
      "text/plain": [
       "<IPython.core.display.HTML object>"
      ]
     },
     "metadata": {},
     "output_type": "display_data"
    },
    {
     "data": {
      "text/html": [
       " View run at <a href='https://wandb.ai/mysterico/optimize-category-model/runs/g9ip5ssl' target=\"_blank\">https://wandb.ai/mysterico/optimize-category-model/runs/g9ip5ssl</a>"
      ],
      "text/plain": [
       "<IPython.core.display.HTML object>"
      ]
     },
     "metadata": {},
     "output_type": "display_data"
    },
    {
     "data": {
      "text/html": [
       "Finishing last run (ID:g9ip5ssl) before initializing another..."
      ],
      "text/plain": [
       "<IPython.core.display.HTML object>"
      ]
     },
     "metadata": {},
     "output_type": "display_data"
    },
    {
     "data": {
      "text/html": [
       "Waiting for W&B process to finish... <strong style=\"color:green\">(success).</strong>"
      ],
      "text/plain": [
       "<IPython.core.display.HTML object>"
      ]
     },
     "metadata": {},
     "output_type": "display_data"
    },
    {
     "data": {
      "text/html": [
       "<style>\n",
       "    table.wandb td:nth-child(1) { padding: 0 10px; text-align: left ; width: auto;} td:nth-child(2) {text-align: left ; width: 100%}\n",
       "    .wandb-row { display: flex; flex-direction: row; flex-wrap: wrap; justify-content: flex-start; width: 100% }\n",
       "    .wandb-col { display: flex; flex-direction: column; flex-basis: 100%; flex: 1; padding: 10px; }\n",
       "    </style>\n",
       "<div class=\"wandb-row\"><div class=\"wandb-col\"><h3>Run history:</h3><br/><table class=\"wandb\"><tr><td>f1 score</td><td>▁</td></tr></table><br/></div><div class=\"wandb-col\"><h3>Run summary:</h3><br/><table class=\"wandb\"><tr><td>f1 score</td><td>0.84412</td></tr></table><br/></div></div>"
      ],
      "text/plain": [
       "<IPython.core.display.HTML object>"
      ]
     },
     "metadata": {},
     "output_type": "display_data"
    },
    {
     "data": {
      "text/html": [
       " View run <strong style=\"color:#cdcd00\">legacy-service</strong> at: <a href='https://wandb.ai/mysterico/optimize-category-model/runs/g9ip5ssl' target=\"_blank\">https://wandb.ai/mysterico/optimize-category-model/runs/g9ip5ssl</a><br/>Synced 5 W&B file(s), 0 media file(s), 0 artifact file(s) and 0 other file(s)"
      ],
      "text/plain": [
       "<IPython.core.display.HTML object>"
      ]
     },
     "metadata": {},
     "output_type": "display_data"
    },
    {
     "data": {
      "text/html": [
       "Find logs at: <code>./wandb/run-20230321_143120-g9ip5ssl/logs</code>"
      ],
      "text/plain": [
       "<IPython.core.display.HTML object>"
      ]
     },
     "metadata": {},
     "output_type": "display_data"
    },
    {
     "data": {
      "text/html": [
       "Successfully finished last run (ID:g9ip5ssl). Initializing new run:<br/>"
      ],
      "text/plain": [
       "<IPython.core.display.HTML object>"
      ]
     },
     "metadata": {},
     "output_type": "display_data"
    },
    {
     "data": {
      "text/html": [
       "Tracking run with wandb version 0.14.0"
      ],
      "text/plain": [
       "<IPython.core.display.HTML object>"
      ]
     },
     "metadata": {},
     "output_type": "display_data"
    },
    {
     "data": {
      "text/html": [
       "Run data is saved locally in <code>/Users/hongseong-gyu/Documents/Github/Data-analyzer-api-server/category-classifier-renew/wandb/run-20230321_143904-vdtd3hf3</code>"
      ],
      "text/plain": [
       "<IPython.core.display.HTML object>"
      ]
     },
     "metadata": {},
     "output_type": "display_data"
    },
    {
     "data": {
      "text/html": [
       "Syncing run <strong><a href='https://wandb.ai/mysterico/optimize-category-model/runs/vdtd3hf3' target=\"_blank\">legacy-quality</a></strong> to <a href='https://wandb.ai/mysterico/optimize-category-model' target=\"_blank\">Weights & Biases</a> (<a href='https://wandb.me/run' target=\"_blank\">docs</a>)<br/>"
      ],
      "text/plain": [
       "<IPython.core.display.HTML object>"
      ]
     },
     "metadata": {},
     "output_type": "display_data"
    },
    {
     "data": {
      "text/html": [
       " View project at <a href='https://wandb.ai/mysterico/optimize-category-model' target=\"_blank\">https://wandb.ai/mysterico/optimize-category-model</a>"
      ],
      "text/plain": [
       "<IPython.core.display.HTML object>"
      ]
     },
     "metadata": {},
     "output_type": "display_data"
    },
    {
     "data": {
      "text/html": [
       " View run at <a href='https://wandb.ai/mysterico/optimize-category-model/runs/vdtd3hf3' target=\"_blank\">https://wandb.ai/mysterico/optimize-category-model/runs/vdtd3hf3</a>"
      ],
      "text/plain": [
       "<IPython.core.display.HTML object>"
      ]
     },
     "metadata": {},
     "output_type": "display_data"
    },
    {
     "data": {
      "text/html": [
       "Waiting for W&B process to finish... <strong style=\"color:green\">(success).</strong>"
      ],
      "text/plain": [
       "<IPython.core.display.HTML object>"
      ]
     },
     "metadata": {},
     "output_type": "display_data"
    },
    {
     "data": {
      "text/html": [
       "<style>\n",
       "    table.wandb td:nth-child(1) { padding: 0 10px; text-align: left ; width: auto;} td:nth-child(2) {text-align: left ; width: 100%}\n",
       "    .wandb-row { display: flex; flex-direction: row; flex-wrap: wrap; justify-content: flex-start; width: 100% }\n",
       "    .wandb-col { display: flex; flex-direction: column; flex-basis: 100%; flex: 1; padding: 10px; }\n",
       "    </style>\n",
       "<div class=\"wandb-row\"><div class=\"wandb-col\"><h3>Run history:</h3><br/><table class=\"wandb\"><tr><td>f1 score</td><td>▁</td></tr></table><br/></div><div class=\"wandb-col\"><h3>Run summary:</h3><br/><table class=\"wandb\"><tr><td>f1 score</td><td>0.86615</td></tr></table><br/></div></div>"
      ],
      "text/plain": [
       "<IPython.core.display.HTML object>"
      ]
     },
     "metadata": {},
     "output_type": "display_data"
    },
    {
     "data": {
      "text/html": [
       " View run <strong style=\"color:#cdcd00\">legacy-quality</strong> at: <a href='https://wandb.ai/mysterico/optimize-category-model/runs/vdtd3hf3' target=\"_blank\">https://wandb.ai/mysterico/optimize-category-model/runs/vdtd3hf3</a><br/>Synced 5 W&B file(s), 0 media file(s), 0 artifact file(s) and 0 other file(s)"
      ],
      "text/plain": [
       "<IPython.core.display.HTML object>"
      ]
     },
     "metadata": {},
     "output_type": "display_data"
    },
    {
     "data": {
      "text/html": [
       "Find logs at: <code>./wandb/run-20230321_143904-vdtd3hf3/logs</code>"
      ],
      "text/plain": [
       "<IPython.core.display.HTML object>"
      ]
     },
     "metadata": {},
     "output_type": "display_data"
    }
   ],
   "source": [
    "df_file_names = {\n",
    "    'eval/df_가격_20000_test.csv': ['가격', 'price'],\n",
    "    'eval/df_디자인_20000_test.csv': ['디자인', 'design'],\n",
    "    'eval/df_서비스_20000_test.csv': ['서비스', 'service'],\n",
    "    'eval/df_품질_20000_test.csv': ['품질', 'quality']\n",
    "}\n",
    "\n",
    "for df_file_name, categories in df_file_names.items():\n",
    "    ko_category, en_category = categories\n",
    "    wandb.init(\n",
    "        project=\"optimize-category-model\",\n",
    "        name=f\"legacy-{en_category}\"\n",
    "    )\n",
    "    df = pd.read_csv(df_file_name)\n",
    "    texts = df['text'].to_list()\n",
    "    labels = df[ko_category].to_list()\n",
    "    preds = list()\n",
    "    for text in texts:\n",
    "        result = await request_legacy_category(text)\n",
    "        for r in result.get('result'):\n",
    "            if r.get('category') == en_category:\n",
    "                pred = 1.0 if r.get('result') == True else 0.0\n",
    "                preds.append(pred)\n",
    "    f1 = f1_score(labels, preds)\n",
    "    wandb.log(\n",
    "        {\"f1 score\": f1}\n",
    "    )\n",
    "    \n",
    "wandb.finish()"
   ]
  },
  {
   "attachments": {},
   "cell_type": "markdown",
   "metadata": {},
   "source": [
    "# Renew category model"
   ]
  },
  {
   "cell_type": "code",
   "execution_count": 3,
   "metadata": {},
   "outputs": [
    {
     "name": "stderr",
     "output_type": "stream",
     "text": [
      "Failed to detect the name of this notebook, you can set it manually with the WANDB_NOTEBOOK_NAME environment variable to enable code saving.\n",
      "\u001b[34m\u001b[1mwandb\u001b[0m: Currently logged in as: \u001b[33mhsung951027\u001b[0m (\u001b[33mmysterico\u001b[0m). Use \u001b[1m`wandb login --relogin`\u001b[0m to force relogin\n"
     ]
    },
    {
     "data": {
      "text/plain": [
       "True"
      ]
     },
     "execution_count": 3,
     "metadata": {},
     "output_type": "execute_result"
    }
   ],
   "source": [
    "wandb.login()"
   ]
  },
  {
   "cell_type": "code",
   "execution_count": 16,
   "metadata": {},
   "outputs": [],
   "source": [
    "ports = {\n",
    "    \"9000\": \"quality\",\n",
    "    \"9001\": \"price\",\n",
    "    \"9002\": \"design\",\n",
    "    \"9003\": \"service\",\n",
    "    # \"9004\": \"brand\"\n",
    "}\n",
    "\n",
    "async def request(text: str, port: int):\n",
    "    async with aiohttp.ClientSession() as sess:\n",
    "        response = await sess.post(\n",
    "            url=f'http://192.168.0.93:{port}/category_clf_chunk',\n",
    "            json={\n",
    "                \"text\": [text]\n",
    "            }\n",
    "        )\n",
    "        return await response.json()\n",
    "        \n",
    "async def request_renew_category(text: str):\n",
    "    responses = await asyncio.gather(\n",
    "        *[\n",
    "            request(\n",
    "                text=text,\n",
    "                port=port\n",
    "            ) \n",
    "            for port, category in ports.items()\n",
    "        ]\n",
    "    )\n",
    "    print('\\n')\n",
    "    for category, response in zip(ports.values(), responses):\n",
    "        print(category, text, response)"
   ]
  },
  {
   "cell_type": "code",
   "execution_count": 4,
   "metadata": {},
   "outputs": [
    {
     "data": {
      "text/html": [
       "Tracking run with wandb version 0.14.0"
      ],
      "text/plain": [
       "<IPython.core.display.HTML object>"
      ]
     },
     "metadata": {},
     "output_type": "display_data"
    },
    {
     "data": {
      "text/html": [
       "Run data is saved locally in <code>/Users/hongseong-gyu/Documents/Github/Data-analyzer-api-server/category-classifier-renew/wandb/run-20230322_113125-21i5hih0</code>"
      ],
      "text/plain": [
       "<IPython.core.display.HTML object>"
      ]
     },
     "metadata": {},
     "output_type": "display_data"
    },
    {
     "data": {
      "text/html": [
       "Syncing run <strong><a href='https://wandb.ai/mysterico/optimize-category-model/runs/21i5hih0' target=\"_blank\">renew-price</a></strong> to <a href='https://wandb.ai/mysterico/optimize-category-model' target=\"_blank\">Weights & Biases</a> (<a href='https://wandb.me/run' target=\"_blank\">docs</a>)<br/>"
      ],
      "text/plain": [
       "<IPython.core.display.HTML object>"
      ]
     },
     "metadata": {},
     "output_type": "display_data"
    },
    {
     "data": {
      "text/html": [
       " View project at <a href='https://wandb.ai/mysterico/optimize-category-model' target=\"_blank\">https://wandb.ai/mysterico/optimize-category-model</a>"
      ],
      "text/plain": [
       "<IPython.core.display.HTML object>"
      ]
     },
     "metadata": {},
     "output_type": "display_data"
    },
    {
     "data": {
      "text/html": [
       " View run at <a href='https://wandb.ai/mysterico/optimize-category-model/runs/21i5hih0' target=\"_blank\">https://wandb.ai/mysterico/optimize-category-model/runs/21i5hih0</a>"
      ],
      "text/plain": [
       "<IPython.core.display.HTML object>"
      ]
     },
     "metadata": {},
     "output_type": "display_data"
    },
    {
     "name": "stderr",
     "output_type": "stream",
     "text": [
      "100%|██████████| 3040/3040 [06:35<00:00,  7.70it/s]\n"
     ]
    },
    {
     "data": {
      "text/html": [
       "Waiting for W&B process to finish... <strong style=\"color:green\">(success).</strong>"
      ],
      "text/plain": [
       "<IPython.core.display.HTML object>"
      ]
     },
     "metadata": {},
     "output_type": "display_data"
    },
    {
     "data": {
      "text/html": [
       "<style>\n",
       "    table.wandb td:nth-child(1) { padding: 0 10px; text-align: left ; width: auto;} td:nth-child(2) {text-align: left ; width: 100%}\n",
       "    .wandb-row { display: flex; flex-direction: row; flex-wrap: wrap; justify-content: flex-start; width: 100% }\n",
       "    .wandb-col { display: flex; flex-direction: column; flex-basis: 100%; flex: 1; padding: 10px; }\n",
       "    </style>\n",
       "<div class=\"wandb-row\"><div class=\"wandb-col\"><h3>Run history:</h3><br/><table class=\"wandb\"><tr><td>f1 score</td><td>▁</td></tr></table><br/></div><div class=\"wandb-col\"><h3>Run summary:</h3><br/><table class=\"wandb\"><tr><td>f1 score</td><td>0.95159</td></tr></table><br/></div></div>"
      ],
      "text/plain": [
       "<IPython.core.display.HTML object>"
      ]
     },
     "metadata": {},
     "output_type": "display_data"
    },
    {
     "data": {
      "text/html": [
       " View run <strong style=\"color:#cdcd00\">renew-price</strong> at: <a href='https://wandb.ai/mysterico/optimize-category-model/runs/21i5hih0' target=\"_blank\">https://wandb.ai/mysterico/optimize-category-model/runs/21i5hih0</a><br/>Synced 6 W&B file(s), 0 media file(s), 0 artifact file(s) and 0 other file(s)"
      ],
      "text/plain": [
       "<IPython.core.display.HTML object>"
      ]
     },
     "metadata": {},
     "output_type": "display_data"
    },
    {
     "data": {
      "text/html": [
       "Find logs at: <code>./wandb/run-20230322_113125-21i5hih0/logs</code>"
      ],
      "text/plain": [
       "<IPython.core.display.HTML object>"
      ]
     },
     "metadata": {},
     "output_type": "display_data"
    }
   ],
   "source": [
    "ports = {\n",
    "    \"9000\": \"quality\",\n",
    "    \"9001\": \"price\",\n",
    "    \"9002\": \"design\",\n",
    "    \"9003\": \"service\",\n",
    "    # \"9004\": \"brand\"\n",
    "}\n",
    "\n",
    "async def request(text: str, port: int):\n",
    "    async with aiohttp.ClientSession() as sess:\n",
    "        response = await sess.post(\n",
    "            url=f'http://192.168.0.93:{port}/category_clf_chunk',\n",
    "            json={\n",
    "                \"text\": [text]\n",
    "            }\n",
    "        )\n",
    "        return await response.json()\n",
    "\n",
    "wandb.init(\n",
    "    project=\"optimize-category-model\",\n",
    "    name=\"renew-price\"\n",
    ")\n",
    "\n",
    "text_price = df_price['text'].to_list()\n",
    "label_price = df_price['가격'].to_list()\n",
    "\n",
    "preds = list()\n",
    "for text in tqdm(text_price):\n",
    "    result = await request(text, 9001)\n",
    "    category = result.get('category')\n",
    "    r = result.get('result')[0]\n",
    "    if category == 'price':\n",
    "        preds.append(r)\n",
    "            \n",
    "from sklearn.metrics import f1_score\n",
    "f1 = f1_score(label_price, preds)\n",
    "\n",
    "wandb.log(\n",
    "    {\"f1 score\": f1}\n",
    ")\n",
    "\n",
    "wandb.finish()"
   ]
  },
  {
   "cell_type": "code",
   "execution_count": 5,
   "metadata": {},
   "outputs": [
    {
     "data": {
      "text/html": [
       "Tracking run with wandb version 0.14.0"
      ],
      "text/plain": [
       "<IPython.core.display.HTML object>"
      ]
     },
     "metadata": {},
     "output_type": "display_data"
    },
    {
     "data": {
      "text/html": [
       "Run data is saved locally in <code>/Users/hongseong-gyu/Documents/Github/Data-analyzer-api-server/category-classifier-renew/wandb/run-20230322_113809-g2eni7u6</code>"
      ],
      "text/plain": [
       "<IPython.core.display.HTML object>"
      ]
     },
     "metadata": {},
     "output_type": "display_data"
    },
    {
     "data": {
      "text/html": [
       "Syncing run <strong><a href='https://wandb.ai/mysterico/optimize-category-model/runs/g2eni7u6' target=\"_blank\">renew-design</a></strong> to <a href='https://wandb.ai/mysterico/optimize-category-model' target=\"_blank\">Weights & Biases</a> (<a href='https://wandb.me/run' target=\"_blank\">docs</a>)<br/>"
      ],
      "text/plain": [
       "<IPython.core.display.HTML object>"
      ]
     },
     "metadata": {},
     "output_type": "display_data"
    },
    {
     "data": {
      "text/html": [
       " View project at <a href='https://wandb.ai/mysterico/optimize-category-model' target=\"_blank\">https://wandb.ai/mysterico/optimize-category-model</a>"
      ],
      "text/plain": [
       "<IPython.core.display.HTML object>"
      ]
     },
     "metadata": {},
     "output_type": "display_data"
    },
    {
     "data": {
      "text/html": [
       " View run at <a href='https://wandb.ai/mysterico/optimize-category-model/runs/g2eni7u6' target=\"_blank\">https://wandb.ai/mysterico/optimize-category-model/runs/g2eni7u6</a>"
      ],
      "text/plain": [
       "<IPython.core.display.HTML object>"
      ]
     },
     "metadata": {},
     "output_type": "display_data"
    },
    {
     "name": "stderr",
     "output_type": "stream",
     "text": [
      "100%|██████████| 2706/2706 [05:12<00:00,  8.66it/s]\n"
     ]
    },
    {
     "data": {
      "text/html": [
       "Waiting for W&B process to finish... <strong style=\"color:green\">(success).</strong>"
      ],
      "text/plain": [
       "<IPython.core.display.HTML object>"
      ]
     },
     "metadata": {},
     "output_type": "display_data"
    },
    {
     "data": {
      "text/html": [
       "<style>\n",
       "    table.wandb td:nth-child(1) { padding: 0 10px; text-align: left ; width: auto;} td:nth-child(2) {text-align: left ; width: 100%}\n",
       "    .wandb-row { display: flex; flex-direction: row; flex-wrap: wrap; justify-content: flex-start; width: 100% }\n",
       "    .wandb-col { display: flex; flex-direction: column; flex-basis: 100%; flex: 1; padding: 10px; }\n",
       "    </style>\n",
       "<div class=\"wandb-row\"><div class=\"wandb-col\"><h3>Run history:</h3><br/><table class=\"wandb\"><tr><td>f1 score</td><td>▁</td></tr></table><br/></div><div class=\"wandb-col\"><h3>Run summary:</h3><br/><table class=\"wandb\"><tr><td>f1 score</td><td>0.85799</td></tr></table><br/></div></div>"
      ],
      "text/plain": [
       "<IPython.core.display.HTML object>"
      ]
     },
     "metadata": {},
     "output_type": "display_data"
    },
    {
     "data": {
      "text/html": [
       " View run <strong style=\"color:#cdcd00\">renew-design</strong> at: <a href='https://wandb.ai/mysterico/optimize-category-model/runs/g2eni7u6' target=\"_blank\">https://wandb.ai/mysterico/optimize-category-model/runs/g2eni7u6</a><br/>Synced 6 W&B file(s), 0 media file(s), 0 artifact file(s) and 0 other file(s)"
      ],
      "text/plain": [
       "<IPython.core.display.HTML object>"
      ]
     },
     "metadata": {},
     "output_type": "display_data"
    },
    {
     "data": {
      "text/html": [
       "Find logs at: <code>./wandb/run-20230322_113809-g2eni7u6/logs</code>"
      ],
      "text/plain": [
       "<IPython.core.display.HTML object>"
      ]
     },
     "metadata": {},
     "output_type": "display_data"
    }
   ],
   "source": [
    "ports = {\n",
    "    \"9000\": \"quality\",\n",
    "    \"9001\": \"price\",\n",
    "    \"9002\": \"design\",\n",
    "    \"9003\": \"service\",\n",
    "    # \"9004\": \"brand\"\n",
    "}\n",
    "\n",
    "async def request(text: str, port: int):\n",
    "    async with aiohttp.ClientSession() as sess:\n",
    "        response = await sess.post(\n",
    "            url=f'http://192.168.0.93:{port}/category_clf_chunk',\n",
    "            json={\n",
    "                \"text\": [text]\n",
    "            }\n",
    "        )\n",
    "        return await response.json()\n",
    "\n",
    "wandb.init(\n",
    "    project=\"optimize-category-model\",\n",
    "    name=\"renew-design\"\n",
    ")\n",
    "\n",
    "text_design = df_design['text'].to_list()\n",
    "label_design = df_design['디자인'].to_list()\n",
    "\n",
    "preds = list()\n",
    "for text in tqdm(text_design):\n",
    "    result = await request(text, 9002)\n",
    "    category = result.get('category')\n",
    "    r = result.get('result')[0]\n",
    "    if category == 'design':\n",
    "        preds.append(r)\n",
    "            \n",
    "from sklearn.metrics import f1_score\n",
    "f1 = f1_score(label_design, preds)\n",
    "\n",
    "wandb.log(\n",
    "    {\"f1 score\": f1}\n",
    ")\n",
    "\n",
    "wandb.finish()"
   ]
  },
  {
   "cell_type": "code",
   "execution_count": 3,
   "metadata": {},
   "outputs": [
    {
     "name": "stderr",
     "output_type": "stream",
     "text": [
      "Failed to detect the name of this notebook, you can set it manually with the WANDB_NOTEBOOK_NAME environment variable to enable code saving.\n",
      "\u001b[34m\u001b[1mwandb\u001b[0m: Currently logged in as: \u001b[33mhsung951027\u001b[0m (\u001b[33mmysterico\u001b[0m). Use \u001b[1m`wandb login --relogin`\u001b[0m to force relogin\n"
     ]
    },
    {
     "data": {
      "text/html": [
       "Tracking run with wandb version 0.14.0"
      ],
      "text/plain": [
       "<IPython.core.display.HTML object>"
      ]
     },
     "metadata": {},
     "output_type": "display_data"
    },
    {
     "data": {
      "text/html": [
       "Run data is saved locally in <code>/Users/hongseong-gyu/Documents/Github/Data-analyzer-api-server/category-classifier-renew/wandb/run-20230322_134926-yvlz8z8t</code>"
      ],
      "text/plain": [
       "<IPython.core.display.HTML object>"
      ]
     },
     "metadata": {},
     "output_type": "display_data"
    },
    {
     "data": {
      "text/html": [
       "Syncing run <strong><a href='https://wandb.ai/mysterico/optimize-category-model/runs/yvlz8z8t' target=\"_blank\">renew-service</a></strong> to <a href='https://wandb.ai/mysterico/optimize-category-model' target=\"_blank\">Weights & Biases</a> (<a href='https://wandb.me/run' target=\"_blank\">docs</a>)<br/>"
      ],
      "text/plain": [
       "<IPython.core.display.HTML object>"
      ]
     },
     "metadata": {},
     "output_type": "display_data"
    },
    {
     "data": {
      "text/html": [
       " View project at <a href='https://wandb.ai/mysterico/optimize-category-model' target=\"_blank\">https://wandb.ai/mysterico/optimize-category-model</a>"
      ],
      "text/plain": [
       "<IPython.core.display.HTML object>"
      ]
     },
     "metadata": {},
     "output_type": "display_data"
    },
    {
     "data": {
      "text/html": [
       " View run at <a href='https://wandb.ai/mysterico/optimize-category-model/runs/yvlz8z8t' target=\"_blank\">https://wandb.ai/mysterico/optimize-category-model/runs/yvlz8z8t</a>"
      ],
      "text/plain": [
       "<IPython.core.display.HTML object>"
      ]
     },
     "metadata": {},
     "output_type": "display_data"
    },
    {
     "name": "stderr",
     "output_type": "stream",
     "text": [
      "100%|██████████| 4128/4128 [07:48<00:00,  8.81it/s]\n"
     ]
    },
    {
     "data": {
      "text/html": [
       "Waiting for W&B process to finish... <strong style=\"color:green\">(success).</strong>"
      ],
      "text/plain": [
       "<IPython.core.display.HTML object>"
      ]
     },
     "metadata": {},
     "output_type": "display_data"
    },
    {
     "data": {
      "text/html": [
       "<style>\n",
       "    table.wandb td:nth-child(1) { padding: 0 10px; text-align: left ; width: auto;} td:nth-child(2) {text-align: left ; width: 100%}\n",
       "    .wandb-row { display: flex; flex-direction: row; flex-wrap: wrap; justify-content: flex-start; width: 100% }\n",
       "    .wandb-col { display: flex; flex-direction: column; flex-basis: 100%; flex: 1; padding: 10px; }\n",
       "    </style>\n",
       "<div class=\"wandb-row\"><div class=\"wandb-col\"><h3>Run history:</h3><br/><table class=\"wandb\"><tr><td>f1 score</td><td>▁</td></tr></table><br/></div><div class=\"wandb-col\"><h3>Run summary:</h3><br/><table class=\"wandb\"><tr><td>f1 score</td><td>0.88084</td></tr></table><br/></div></div>"
      ],
      "text/plain": [
       "<IPython.core.display.HTML object>"
      ]
     },
     "metadata": {},
     "output_type": "display_data"
    },
    {
     "data": {
      "text/html": [
       " View run <strong style=\"color:#cdcd00\">renew-service</strong> at: <a href='https://wandb.ai/mysterico/optimize-category-model/runs/yvlz8z8t' target=\"_blank\">https://wandb.ai/mysterico/optimize-category-model/runs/yvlz8z8t</a><br/>Synced 6 W&B file(s), 0 media file(s), 0 artifact file(s) and 0 other file(s)"
      ],
      "text/plain": [
       "<IPython.core.display.HTML object>"
      ]
     },
     "metadata": {},
     "output_type": "display_data"
    },
    {
     "data": {
      "text/html": [
       "Find logs at: <code>./wandb/run-20230322_134926-yvlz8z8t/logs</code>"
      ],
      "text/plain": [
       "<IPython.core.display.HTML object>"
      ]
     },
     "metadata": {},
     "output_type": "display_data"
    }
   ],
   "source": [
    "ports = {\n",
    "    \"9000\": \"quality\",\n",
    "    \"9001\": \"price\",\n",
    "    \"9002\": \"design\",\n",
    "    \"9003\": \"service\",\n",
    "    # \"9004\": \"brand\"\n",
    "}\n",
    "\n",
    "async def request(text: str, port: int):\n",
    "    async with aiohttp.ClientSession() as sess:\n",
    "        response = await sess.post(\n",
    "            url=f'http://192.168.0.93:{port}/category_clf_chunk',\n",
    "            json={\n",
    "                \"text\": [text]\n",
    "            }\n",
    "        )\n",
    "        return await response.json()\n",
    "\n",
    "wandb.init(\n",
    "    project=\"optimize-category-model\",\n",
    "    name=\"renew-service\"\n",
    ")\n",
    "\n",
    "text_service = df_service['text'].to_list()\n",
    "label_service = df_service['서비스'].to_list()\n",
    "\n",
    "preds = list()\n",
    "for text in tqdm(text_service):\n",
    "    result = await request(text, 9003)\n",
    "    category = result.get('category')\n",
    "    r = result.get('result')[0]\n",
    "    if category == 'service':\n",
    "        preds.append(r)\n",
    "            \n",
    "from sklearn.metrics import f1_score\n",
    "f1 = f1_score(label_service, preds)\n",
    "\n",
    "wandb.log(\n",
    "    {\"f1 score\": f1}\n",
    ")\n",
    "\n",
    "wandb.finish()"
   ]
  },
  {
   "cell_type": "code",
   "execution_count": 4,
   "metadata": {},
   "outputs": [
    {
     "data": {
      "text/html": [
       "Tracking run with wandb version 0.14.0"
      ],
      "text/plain": [
       "<IPython.core.display.HTML object>"
      ]
     },
     "metadata": {},
     "output_type": "display_data"
    },
    {
     "data": {
      "text/html": [
       "Run data is saved locally in <code>/Users/hongseong-gyu/Documents/Github/Data-analyzer-api-server/category-classifier-renew/wandb/run-20230322_150751-86mgcyoo</code>"
      ],
      "text/plain": [
       "<IPython.core.display.HTML object>"
      ]
     },
     "metadata": {},
     "output_type": "display_data"
    },
    {
     "data": {
      "text/html": [
       "Syncing run <strong><a href='https://wandb.ai/mysterico/optimize-category-model/runs/86mgcyoo' target=\"_blank\">renew-quality</a></strong> to <a href='https://wandb.ai/mysterico/optimize-category-model' target=\"_blank\">Weights & Biases</a> (<a href='https://wandb.me/run' target=\"_blank\">docs</a>)<br/>"
      ],
      "text/plain": [
       "<IPython.core.display.HTML object>"
      ]
     },
     "metadata": {},
     "output_type": "display_data"
    },
    {
     "data": {
      "text/html": [
       " View project at <a href='https://wandb.ai/mysterico/optimize-category-model' target=\"_blank\">https://wandb.ai/mysterico/optimize-category-model</a>"
      ],
      "text/plain": [
       "<IPython.core.display.HTML object>"
      ]
     },
     "metadata": {},
     "output_type": "display_data"
    },
    {
     "data": {
      "text/html": [
       " View run at <a href='https://wandb.ai/mysterico/optimize-category-model/runs/86mgcyoo' target=\"_blank\">https://wandb.ai/mysterico/optimize-category-model/runs/86mgcyoo</a>"
      ],
      "text/plain": [
       "<IPython.core.display.HTML object>"
      ]
     },
     "metadata": {},
     "output_type": "display_data"
    },
    {
     "name": "stderr",
     "output_type": "stream",
     "text": [
      "100%|██████████| 12992/12992 [25:23<00:00,  8.53it/s]\n"
     ]
    },
    {
     "data": {
      "text/html": [
       "Waiting for W&B process to finish... <strong style=\"color:green\">(success).</strong>"
      ],
      "text/plain": [
       "<IPython.core.display.HTML object>"
      ]
     },
     "metadata": {},
     "output_type": "display_data"
    },
    {
     "data": {
      "text/html": [
       "<style>\n",
       "    table.wandb td:nth-child(1) { padding: 0 10px; text-align: left ; width: auto;} td:nth-child(2) {text-align: left ; width: 100%}\n",
       "    .wandb-row { display: flex; flex-direction: row; flex-wrap: wrap; justify-content: flex-start; width: 100% }\n",
       "    .wandb-col { display: flex; flex-direction: column; flex-basis: 100%; flex: 1; padding: 10px; }\n",
       "    </style>\n",
       "<div class=\"wandb-row\"><div class=\"wandb-col\"><h3>Run history:</h3><br/><table class=\"wandb\"><tr><td>f1 score</td><td>▁</td></tr></table><br/></div><div class=\"wandb-col\"><h3>Run summary:</h3><br/><table class=\"wandb\"><tr><td>f1 score</td><td>0.88342</td></tr></table><br/></div></div>"
      ],
      "text/plain": [
       "<IPython.core.display.HTML object>"
      ]
     },
     "metadata": {},
     "output_type": "display_data"
    },
    {
     "data": {
      "text/html": [
       " View run <strong style=\"color:#cdcd00\">renew-quality</strong> at: <a href='https://wandb.ai/mysterico/optimize-category-model/runs/86mgcyoo' target=\"_blank\">https://wandb.ai/mysterico/optimize-category-model/runs/86mgcyoo</a><br/>Synced 6 W&B file(s), 0 media file(s), 0 artifact file(s) and 0 other file(s)"
      ],
      "text/plain": [
       "<IPython.core.display.HTML object>"
      ]
     },
     "metadata": {},
     "output_type": "display_data"
    },
    {
     "data": {
      "text/html": [
       "Find logs at: <code>./wandb/run-20230322_150751-86mgcyoo/logs</code>"
      ],
      "text/plain": [
       "<IPython.core.display.HTML object>"
      ]
     },
     "metadata": {},
     "output_type": "display_data"
    }
   ],
   "source": [
    "ports = {\n",
    "    \"9000\": \"quality\",\n",
    "    \"9001\": \"price\",\n",
    "    \"9002\": \"design\",\n",
    "    \"9003\": \"service\",\n",
    "    # \"9004\": \"brand\"\n",
    "}\n",
    "\n",
    "async def request(text: str, port: int):\n",
    "    async with aiohttp.ClientSession() as sess:\n",
    "        response = await sess.post(\n",
    "            url=f'http://192.168.0.93:{port}/category_clf_chunk',\n",
    "            json={\n",
    "                \"text\": [text]\n",
    "            }\n",
    "        )\n",
    "        return await response.json()\n",
    "\n",
    "wandb.init(\n",
    "    project=\"optimize-category-model\",\n",
    "    name=\"renew-quality\"\n",
    ")\n",
    "\n",
    "text_quality = df_quality['text'].to_list()\n",
    "label_quality = df_quality['품질'].to_list()\n",
    "\n",
    "preds = list()\n",
    "for text in tqdm(text_quality):\n",
    "    result = await request(text, 9000)\n",
    "    category = result.get('category')\n",
    "    r = result.get('result')[0]\n",
    "    if category == 'quality':\n",
    "        preds.append(r)\n",
    "            \n",
    "from sklearn.metrics import f1_score\n",
    "f1 = f1_score(label_quality, preds)\n",
    "\n",
    "wandb.log(\n",
    "    {\"f1 score\": f1}\n",
    ")\n",
    "\n",
    "wandb.finish()"
   ]
  },
  {
   "attachments": {},
   "cell_type": "markdown",
   "metadata": {},
   "source": [
    "# Renew category by sentence"
   ]
  },
  {
   "cell_type": "code",
   "execution_count": 3,
   "metadata": {},
   "outputs": [
    {
     "name": "stderr",
     "output_type": "stream",
     "text": [
      "Failed to detect the name of this notebook, you can set it manually with the WANDB_NOTEBOOK_NAME environment variable to enable code saving.\n",
      "\u001b[34m\u001b[1mwandb\u001b[0m: Currently logged in as: \u001b[33mhsung951027\u001b[0m (\u001b[33mmysterico\u001b[0m). Use \u001b[1m`wandb login --relogin`\u001b[0m to force relogin\n"
     ]
    },
    {
     "data": {
      "text/html": [
       "Tracking run with wandb version 0.14.0"
      ],
      "text/plain": [
       "<IPython.core.display.HTML object>"
      ]
     },
     "metadata": {},
     "output_type": "display_data"
    },
    {
     "data": {
      "text/html": [
       "Run data is saved locally in <code>/Users/hongseong-gyu/Documents/Github/Data-analyzer-api-server/category-classifier-renew/wandb/run-20230322_155746-974vcuaj</code>"
      ],
      "text/plain": [
       "<IPython.core.display.HTML object>"
      ]
     },
     "metadata": {},
     "output_type": "display_data"
    },
    {
     "data": {
      "text/html": [
       "Syncing run <strong><a href='https://wandb.ai/mysterico/optimize-category-model/runs/974vcuaj' target=\"_blank\">renew-price-sentence</a></strong> to <a href='https://wandb.ai/mysterico/optimize-category-model' target=\"_blank\">Weights & Biases</a> (<a href='https://wandb.me/run' target=\"_blank\">docs</a>)<br/>"
      ],
      "text/plain": [
       "<IPython.core.display.HTML object>"
      ]
     },
     "metadata": {},
     "output_type": "display_data"
    },
    {
     "data": {
      "text/html": [
       " View project at <a href='https://wandb.ai/mysterico/optimize-category-model' target=\"_blank\">https://wandb.ai/mysterico/optimize-category-model</a>"
      ],
      "text/plain": [
       "<IPython.core.display.HTML object>"
      ]
     },
     "metadata": {},
     "output_type": "display_data"
    },
    {
     "data": {
      "text/html": [
       " View run at <a href='https://wandb.ai/mysterico/optimize-category-model/runs/974vcuaj' target=\"_blank\">https://wandb.ai/mysterico/optimize-category-model/runs/974vcuaj</a>"
      ],
      "text/plain": [
       "<IPython.core.display.HTML object>"
      ]
     },
     "metadata": {},
     "output_type": "display_data"
    },
    {
     "name": "stderr",
     "output_type": "stream",
     "text": [
      "100%|██████████| 3040/3040 [06:52<00:00,  7.37it/s]\n"
     ]
    },
    {
     "data": {
      "text/html": [
       "Waiting for W&B process to finish... <strong style=\"color:green\">(success).</strong>"
      ],
      "text/plain": [
       "<IPython.core.display.HTML object>"
      ]
     },
     "metadata": {},
     "output_type": "display_data"
    },
    {
     "data": {
      "text/html": [
       "<style>\n",
       "    table.wandb td:nth-child(1) { padding: 0 10px; text-align: left ; width: auto;} td:nth-child(2) {text-align: left ; width: 100%}\n",
       "    .wandb-row { display: flex; flex-direction: row; flex-wrap: wrap; justify-content: flex-start; width: 100% }\n",
       "    .wandb-col { display: flex; flex-direction: column; flex-basis: 100%; flex: 1; padding: 10px; }\n",
       "    </style>\n",
       "<div class=\"wandb-row\"><div class=\"wandb-col\"><h3>Run history:</h3><br/><table class=\"wandb\"><tr><td>f1 score</td><td>▁</td></tr></table><br/></div><div class=\"wandb-col\"><h3>Run summary:</h3><br/><table class=\"wandb\"><tr><td>f1 score</td><td>0.94248</td></tr></table><br/></div></div>"
      ],
      "text/plain": [
       "<IPython.core.display.HTML object>"
      ]
     },
     "metadata": {},
     "output_type": "display_data"
    },
    {
     "data": {
      "text/html": [
       " View run <strong style=\"color:#cdcd00\">renew-price-sentence</strong> at: <a href='https://wandb.ai/mysterico/optimize-category-model/runs/974vcuaj' target=\"_blank\">https://wandb.ai/mysterico/optimize-category-model/runs/974vcuaj</a><br/>Synced 6 W&B file(s), 0 media file(s), 0 artifact file(s) and 0 other file(s)"
      ],
      "text/plain": [
       "<IPython.core.display.HTML object>"
      ]
     },
     "metadata": {},
     "output_type": "display_data"
    },
    {
     "data": {
      "text/html": [
       "Find logs at: <code>./wandb/run-20230322_155746-974vcuaj/logs</code>"
      ],
      "text/plain": [
       "<IPython.core.display.HTML object>"
      ]
     },
     "metadata": {},
     "output_type": "display_data"
    }
   ],
   "source": [
    "ports = {\n",
    "    \"9000\": \"quality\",\n",
    "    \"9001\": \"price\",\n",
    "    \"9002\": \"design\",\n",
    "    \"9003\": \"service\",\n",
    "    # \"9004\": \"brand\"\n",
    "}\n",
    "\n",
    "async def request(text: str, port: int):\n",
    "    async with aiohttp.ClientSession() as sess:\n",
    "        response = await sess.post(\n",
    "            url=f'http://192.168.0.93:{port}/category_clf_sentence',\n",
    "            json={\n",
    "                \"text\": [text]\n",
    "            }\n",
    "        )\n",
    "        return await response.json()\n",
    "\n",
    "wandb.init(\n",
    "    project=\"optimize-category-model\",\n",
    "    name=\"renew-price-sentence\"\n",
    ")\n",
    "\n",
    "text_price = df_price['text'].to_list()\n",
    "label_price = df_price['가격'].to_list()\n",
    "\n",
    "preds = list()\n",
    "for text in tqdm(text_price):\n",
    "    result = await request(text, 9001)\n",
    "    category = result.get('category')\n",
    "    r = result.get('result')[0]\n",
    "    if category == 'price':\n",
    "        preds.append(r)\n",
    "            \n",
    "from sklearn.metrics import f1_score\n",
    "f1 = f1_score(label_price, preds)\n",
    "\n",
    "wandb.log(\n",
    "    {\"f1 score\": f1}\n",
    ")\n",
    "\n",
    "wandb.finish()"
   ]
  },
  {
   "cell_type": "code",
   "execution_count": 4,
   "metadata": {},
   "outputs": [
    {
     "data": {
      "text/html": [
       "Tracking run with wandb version 0.14.0"
      ],
      "text/plain": [
       "<IPython.core.display.HTML object>"
      ]
     },
     "metadata": {},
     "output_type": "display_data"
    },
    {
     "data": {
      "text/html": [
       "Run data is saved locally in <code>/Users/hongseong-gyu/Documents/Github/Data-analyzer-api-server/category-classifier-renew/wandb/run-20230322_160832-v61qnp4s</code>"
      ],
      "text/plain": [
       "<IPython.core.display.HTML object>"
      ]
     },
     "metadata": {},
     "output_type": "display_data"
    },
    {
     "data": {
      "text/html": [
       "Syncing run <strong><a href='https://wandb.ai/mysterico/optimize-category-model/runs/v61qnp4s' target=\"_blank\">renew-design-sentence</a></strong> to <a href='https://wandb.ai/mysterico/optimize-category-model' target=\"_blank\">Weights & Biases</a> (<a href='https://wandb.me/run' target=\"_blank\">docs</a>)<br/>"
      ],
      "text/plain": [
       "<IPython.core.display.HTML object>"
      ]
     },
     "metadata": {},
     "output_type": "display_data"
    },
    {
     "data": {
      "text/html": [
       " View project at <a href='https://wandb.ai/mysterico/optimize-category-model' target=\"_blank\">https://wandb.ai/mysterico/optimize-category-model</a>"
      ],
      "text/plain": [
       "<IPython.core.display.HTML object>"
      ]
     },
     "metadata": {},
     "output_type": "display_data"
    },
    {
     "data": {
      "text/html": [
       " View run at <a href='https://wandb.ai/mysterico/optimize-category-model/runs/v61qnp4s' target=\"_blank\">https://wandb.ai/mysterico/optimize-category-model/runs/v61qnp4s</a>"
      ],
      "text/plain": [
       "<IPython.core.display.HTML object>"
      ]
     },
     "metadata": {},
     "output_type": "display_data"
    },
    {
     "name": "stderr",
     "output_type": "stream",
     "text": [
      "100%|██████████| 2706/2706 [05:53<00:00,  7.67it/s]\n"
     ]
    },
    {
     "data": {
      "text/html": [
       "Waiting for W&B process to finish... <strong style=\"color:green\">(success).</strong>"
      ],
      "text/plain": [
       "<IPython.core.display.HTML object>"
      ]
     },
     "metadata": {},
     "output_type": "display_data"
    },
    {
     "data": {
      "text/html": [
       "<style>\n",
       "    table.wandb td:nth-child(1) { padding: 0 10px; text-align: left ; width: auto;} td:nth-child(2) {text-align: left ; width: 100%}\n",
       "    .wandb-row { display: flex; flex-direction: row; flex-wrap: wrap; justify-content: flex-start; width: 100% }\n",
       "    .wandb-col { display: flex; flex-direction: column; flex-basis: 100%; flex: 1; padding: 10px; }\n",
       "    </style>\n",
       "<div class=\"wandb-row\"><div class=\"wandb-col\"><h3>Run history:</h3><br/><table class=\"wandb\"><tr><td>f1 score</td><td>▁</td></tr></table><br/></div><div class=\"wandb-col\"><h3>Run summary:</h3><br/><table class=\"wandb\"><tr><td>f1 score</td><td>0.84935</td></tr></table><br/></div></div>"
      ],
      "text/plain": [
       "<IPython.core.display.HTML object>"
      ]
     },
     "metadata": {},
     "output_type": "display_data"
    },
    {
     "data": {
      "text/html": [
       " View run <strong style=\"color:#cdcd00\">renew-design-sentence</strong> at: <a href='https://wandb.ai/mysterico/optimize-category-model/runs/v61qnp4s' target=\"_blank\">https://wandb.ai/mysterico/optimize-category-model/runs/v61qnp4s</a><br/>Synced 6 W&B file(s), 0 media file(s), 0 artifact file(s) and 0 other file(s)"
      ],
      "text/plain": [
       "<IPython.core.display.HTML object>"
      ]
     },
     "metadata": {},
     "output_type": "display_data"
    },
    {
     "data": {
      "text/html": [
       "Find logs at: <code>./wandb/run-20230322_160832-v61qnp4s/logs</code>"
      ],
      "text/plain": [
       "<IPython.core.display.HTML object>"
      ]
     },
     "metadata": {},
     "output_type": "display_data"
    }
   ],
   "source": [
    "ports = {\n",
    "    \"9000\": \"quality\",\n",
    "    \"9001\": \"price\",\n",
    "    \"9002\": \"design\",\n",
    "    \"9003\": \"service\",\n",
    "    # \"9004\": \"brand\"\n",
    "}\n",
    "\n",
    "async def request(text: str, port: int):\n",
    "    async with aiohttp.ClientSession() as sess:\n",
    "        response = await sess.post(\n",
    "            url=f'http://192.168.0.93:{port}/category_clf_sentence',\n",
    "            json={\n",
    "                \"text\": [text]\n",
    "            }\n",
    "        )\n",
    "        return await response.json()\n",
    "\n",
    "wandb.init(\n",
    "    project=\"optimize-category-model\",\n",
    "    name=\"renew-design-sentence\"\n",
    ")\n",
    "\n",
    "text_design = df_design['text'].to_list()\n",
    "label_design = df_design['디자인'].to_list()\n",
    "\n",
    "preds = list()\n",
    "for text in tqdm(text_design):\n",
    "    result = await request(text, 9002)\n",
    "    category = result.get('category')\n",
    "    r = result.get('result')[0]\n",
    "    if category == 'design':\n",
    "        preds.append(r)\n",
    "            \n",
    "from sklearn.metrics import f1_score\n",
    "f1 = f1_score(label_design, preds)\n",
    "\n",
    "wandb.log(\n",
    "    {\"f1 score\": f1}\n",
    ")\n",
    "\n",
    "wandb.finish()"
   ]
  },
  {
   "cell_type": "code",
   "execution_count": 5,
   "metadata": {},
   "outputs": [
    {
     "data": {
      "text/html": [
       "Tracking run with wandb version 0.14.0"
      ],
      "text/plain": [
       "<IPython.core.display.HTML object>"
      ]
     },
     "metadata": {},
     "output_type": "display_data"
    },
    {
     "data": {
      "text/html": [
       "Run data is saved locally in <code>/Users/hongseong-gyu/Documents/Github/Data-analyzer-api-server/category-classifier-renew/wandb/run-20230322_162424-3o43o6i3</code>"
      ],
      "text/plain": [
       "<IPython.core.display.HTML object>"
      ]
     },
     "metadata": {},
     "output_type": "display_data"
    },
    {
     "data": {
      "text/html": [
       "Syncing run <strong><a href='https://wandb.ai/mysterico/optimize-category-model/runs/3o43o6i3' target=\"_blank\">renew-service-sentence</a></strong> to <a href='https://wandb.ai/mysterico/optimize-category-model' target=\"_blank\">Weights & Biases</a> (<a href='https://wandb.me/run' target=\"_blank\">docs</a>)<br/>"
      ],
      "text/plain": [
       "<IPython.core.display.HTML object>"
      ]
     },
     "metadata": {},
     "output_type": "display_data"
    },
    {
     "data": {
      "text/html": [
       " View project at <a href='https://wandb.ai/mysterico/optimize-category-model' target=\"_blank\">https://wandb.ai/mysterico/optimize-category-model</a>"
      ],
      "text/plain": [
       "<IPython.core.display.HTML object>"
      ]
     },
     "metadata": {},
     "output_type": "display_data"
    },
    {
     "data": {
      "text/html": [
       " View run at <a href='https://wandb.ai/mysterico/optimize-category-model/runs/3o43o6i3' target=\"_blank\">https://wandb.ai/mysterico/optimize-category-model/runs/3o43o6i3</a>"
      ],
      "text/plain": [
       "<IPython.core.display.HTML object>"
      ]
     },
     "metadata": {},
     "output_type": "display_data"
    },
    {
     "name": "stderr",
     "output_type": "stream",
     "text": [
      "100%|██████████| 4128/4128 [08:33<00:00,  8.04it/s]\n"
     ]
    },
    {
     "data": {
      "text/html": [
       "Waiting for W&B process to finish... <strong style=\"color:green\">(success).</strong>"
      ],
      "text/plain": [
       "<IPython.core.display.HTML object>"
      ]
     },
     "metadata": {},
     "output_type": "display_data"
    },
    {
     "data": {
      "text/html": [
       "<style>\n",
       "    table.wandb td:nth-child(1) { padding: 0 10px; text-align: left ; width: auto;} td:nth-child(2) {text-align: left ; width: 100%}\n",
       "    .wandb-row { display: flex; flex-direction: row; flex-wrap: wrap; justify-content: flex-start; width: 100% }\n",
       "    .wandb-col { display: flex; flex-direction: column; flex-basis: 100%; flex: 1; padding: 10px; }\n",
       "    </style>\n",
       "<div class=\"wandb-row\"><div class=\"wandb-col\"><h3>Run history:</h3><br/><table class=\"wandb\"><tr><td>f1 score</td><td>▁</td></tr></table><br/></div><div class=\"wandb-col\"><h3>Run summary:</h3><br/><table class=\"wandb\"><tr><td>f1 score</td><td>0.86983</td></tr></table><br/></div></div>"
      ],
      "text/plain": [
       "<IPython.core.display.HTML object>"
      ]
     },
     "metadata": {},
     "output_type": "display_data"
    },
    {
     "data": {
      "text/html": [
       " View run <strong style=\"color:#cdcd00\">renew-service-sentence</strong> at: <a href='https://wandb.ai/mysterico/optimize-category-model/runs/3o43o6i3' target=\"_blank\">https://wandb.ai/mysterico/optimize-category-model/runs/3o43o6i3</a><br/>Synced 6 W&B file(s), 0 media file(s), 0 artifact file(s) and 0 other file(s)"
      ],
      "text/plain": [
       "<IPython.core.display.HTML object>"
      ]
     },
     "metadata": {},
     "output_type": "display_data"
    },
    {
     "data": {
      "text/html": [
       "Find logs at: <code>./wandb/run-20230322_162424-3o43o6i3/logs</code>"
      ],
      "text/plain": [
       "<IPython.core.display.HTML object>"
      ]
     },
     "metadata": {},
     "output_type": "display_data"
    }
   ],
   "source": [
    "ports = {\n",
    "    \"9000\": \"quality\",\n",
    "    \"9001\": \"price\",\n",
    "    \"9002\": \"design\",\n",
    "    \"9003\": \"service\",\n",
    "    # \"9004\": \"brand\"\n",
    "}\n",
    "\n",
    "async def request(text: str, port: int):\n",
    "    async with aiohttp.ClientSession() as sess:\n",
    "        response = await sess.post(\n",
    "            url=f'http://192.168.0.93:{port}/category_clf_sentence',\n",
    "            json={\n",
    "                \"text\": [text]\n",
    "            }\n",
    "        )\n",
    "        return await response.json()\n",
    "\n",
    "wandb.init(\n",
    "    project=\"optimize-category-model\",\n",
    "    name=\"renew-service-sentence\"\n",
    ")\n",
    "\n",
    "text_service = df_service['text'].to_list()\n",
    "label_service = df_service['서비스'].to_list()\n",
    "\n",
    "preds = list()\n",
    "for text in tqdm(text_service):\n",
    "    result = await request(text, 9003)\n",
    "    category = result.get('category')\n",
    "    r = result.get('result')[0]\n",
    "    if category == 'service':\n",
    "        preds.append(r)\n",
    "            \n",
    "from sklearn.metrics import f1_score\n",
    "f1 = f1_score(label_service, preds)\n",
    "\n",
    "wandb.log(\n",
    "    {\"f1 score\": f1}\n",
    ")\n",
    "\n",
    "wandb.finish()"
   ]
  },
  {
   "cell_type": "code",
   "execution_count": 6,
   "metadata": {},
   "outputs": [
    {
     "data": {
      "text/html": [
       "Tracking run with wandb version 0.14.0"
      ],
      "text/plain": [
       "<IPython.core.display.HTML object>"
      ]
     },
     "metadata": {},
     "output_type": "display_data"
    },
    {
     "data": {
      "text/html": [
       "Run data is saved locally in <code>/Users/hongseong-gyu/Documents/Github/Data-analyzer-api-server/category-classifier-renew/wandb/run-20230322_163429-qb8s55i2</code>"
      ],
      "text/plain": [
       "<IPython.core.display.HTML object>"
      ]
     },
     "metadata": {},
     "output_type": "display_data"
    },
    {
     "data": {
      "text/html": [
       "Syncing run <strong><a href='https://wandb.ai/mysterico/optimize-category-model/runs/qb8s55i2' target=\"_blank\">renew-quality-sentence</a></strong> to <a href='https://wandb.ai/mysterico/optimize-category-model' target=\"_blank\">Weights & Biases</a> (<a href='https://wandb.me/run' target=\"_blank\">docs</a>)<br/>"
      ],
      "text/plain": [
       "<IPython.core.display.HTML object>"
      ]
     },
     "metadata": {},
     "output_type": "display_data"
    },
    {
     "data": {
      "text/html": [
       " View project at <a href='https://wandb.ai/mysterico/optimize-category-model' target=\"_blank\">https://wandb.ai/mysterico/optimize-category-model</a>"
      ],
      "text/plain": [
       "<IPython.core.display.HTML object>"
      ]
     },
     "metadata": {},
     "output_type": "display_data"
    },
    {
     "data": {
      "text/html": [
       " View run at <a href='https://wandb.ai/mysterico/optimize-category-model/runs/qb8s55i2' target=\"_blank\">https://wandb.ai/mysterico/optimize-category-model/runs/qb8s55i2</a>"
      ],
      "text/plain": [
       "<IPython.core.display.HTML object>"
      ]
     },
     "metadata": {},
     "output_type": "display_data"
    },
    {
     "name": "stderr",
     "output_type": "stream",
     "text": [
      " 15%|█▌        | 1976/12992 [04:02<27:59,  6.56it/s]"
     ]
    }
   ],
   "source": [
    "ports = {\n",
    "    \"9000\": \"quality\",\n",
    "    \"9001\": \"price\",\n",
    "    \"9002\": \"design\",\n",
    "    \"9003\": \"service\",\n",
    "    # \"9004\": \"brand\"\n",
    "}\n",
    "\n",
    "async def request(text: str, port: int):\n",
    "    async with aiohttp.ClientSession() as sess:\n",
    "        response = await sess.post(\n",
    "            url=f'http://192.168.0.93:{port}/category_clf_sentence',\n",
    "            json={\n",
    "                \"text\": [text]\n",
    "            }\n",
    "        )\n",
    "        return await response.json()\n",
    "\n",
    "wandb.init(\n",
    "    project=\"optimize-category-model\",\n",
    "    name=\"renew-quality-sentence\"\n",
    ")\n",
    "\n",
    "text_quality = df_quality['text'].to_list()\n",
    "label_quality = df_quality['품질'].to_list()\n",
    "\n",
    "preds = list()\n",
    "for text in tqdm(text_quality):\n",
    "    result = await request(text, 9000)\n",
    "    category = result.get('category')\n",
    "    r = result.get('result')[0]\n",
    "    if category == 'quality':\n",
    "        preds.append(r)\n",
    "            \n",
    "from sklearn.metrics import f1_score\n",
    "f1 = f1_score(label_quality, preds)\n",
    "\n",
    "wandb.log(\n",
    "    {\"f1 score\": f1}\n",
    ")\n",
    "\n",
    "wandb.finish()"
   ]
  },
  {
   "cell_type": "code",
   "execution_count": null,
   "metadata": {},
   "outputs": [],
   "source": []
  }
 ],
 "metadata": {
  "kernelspec": {
   "display_name": "category-classifier-renew",
   "language": "python",
   "name": "python3"
  },
  "language_info": {
   "codemirror_mode": {
    "name": "ipython",
    "version": 3
   },
   "file_extension": ".py",
   "mimetype": "text/x-python",
   "name": "python",
   "nbconvert_exporter": "python",
   "pygments_lexer": "ipython3",
   "version": "3.8.0"
  },
  "orig_nbformat": 4,
  "vscode": {
   "interpreter": {
    "hash": "300a6e8546ed34a3758af64ebf0d24ccb431daa87a578713d386ff65fed82b3b"
   }
  }
 },
 "nbformat": 4,
 "nbformat_minor": 2
}
