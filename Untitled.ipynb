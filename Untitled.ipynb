{
 "cells": [
  {
   "cell_type": "code",
   "execution_count": 1,
   "metadata": {},
   "outputs": [
    {
     "name": "stderr",
     "output_type": "stream",
     "text": [
      "/home/ubuntu/anaconda3/envs/prefix-tuning/lib/python3.8/site-packages/tqdm/auto.py:22: TqdmWarning: IProgress not found. Please update jupyter and ipywidgets. See https://ipywidgets.readthedocs.io/en/stable/user_install.html\n",
      "  from .autonotebook import tqdm as notebook_tqdm\n"
     ]
    }
   ],
   "source": [
    "from transformers import AutoTokenizer, AutoModelForCausalLM\n",
    "\n",
    "tokenizer = AutoTokenizer.from_pretrained(\"EleutherAI/polyglot-ko-3.8b\")\n",
    "\n",
    "model = AutoModelForCausalLM.from_pretrained(\"EleutherAI/polyglot-ko-3.8b\")"
   ]
  },
  {
   "cell_type": "code",
   "execution_count": null,
   "metadata": {},
   "outputs": [],
   "source": [
    "model\n",
    "\n",
    "# gpt_neox\n",
    "## embed_in\n",
    "## layers [0 ~ 31]\n",
    "## final_layer_norm\n",
    "# embed_out\n",
    "\n",
    "# GPTNeoXForCausalLM(\n",
    "#   (gpt_neox): GPTNeoXModel(\n",
    "#     (embed_in): Embedding(30080, 3072)\n",
    "#     (layers): ModuleList(\n",
    "#       (0): GPTNeoXLayer(\n",
    "#         (input_layernorm): LayerNorm((3072,), eps=1e-05, elementwise_affine=True)\n",
    "#         (post_attention_layernorm): LayerNorm((3072,), eps=1e-05, elementwise_affine=True)\n",
    "#         (attention): GPTNeoXAttention(\n",
    "#           (rotary_emb): RotaryEmbedding()\n",
    "#           (query_key_value): Linear(in_features=3072, out_features=9216, bias=True)\n",
    "#           (dense): Linear(in_features=3072, out_features=3072, bias=True)\n",
    "#         )\n",
    "#         (mlp): GPTNeoXMLP(\n",
    "#           (dense_h_to_4h): Linear(in_features=3072, out_features=12288, bias=True)\n",
    "#           (dense_4h_to_h): Linear(in_features=12288, out_features=3072, bias=True)\n",
    "#           (act): GELUActivation()\n",
    "#         )\n",
    "#       )\n",
    "#     )\n",
    "#     (final_layer_norm): LayerNorm((3072,), eps=1e-05, elementwise_affine=True)\n",
    "#   )\n",
    "#   (embed_out): Linear(in_features=3072, out_features=30080, bias=False)\n",
    "# )"
   ]
  },
  {
   "cell_type": "code",
   "execution_count": null,
   "metadata": {},
   "outputs": [],
   "source": []
  },
  {
   "cell_type": "code",
   "execution_count": null,
   "metadata": {},
   "outputs": [],
   "source": []
  },
  {
   "cell_type": "code",
   "execution_count": null,
   "metadata": {},
   "outputs": [],
   "source": []
  },
  {
   "cell_type": "code",
   "execution_count": null,
   "metadata": {},
   "outputs": [],
   "source": []
  },
  {
   "cell_type": "code",
   "execution_count": 2,
   "metadata": {},
   "outputs": [],
   "source": [
    "layers = model.gpt_neox.layers"
   ]
  },
  {
   "cell_type": "code",
   "execution_count": 3,
   "metadata": {},
   "outputs": [
    {
     "data": {
      "text/plain": [
       "32"
      ]
     },
     "execution_count": 3,
     "metadata": {},
     "output_type": "execute_result"
    }
   ],
   "source": [
    "len(layers)"
   ]
  },
  {
   "cell_type": "code",
   "execution_count": 4,
   "metadata": {},
   "outputs": [],
   "source": [
    "# distribution of huggingface\n",
    "\n",
    "model.to('cuda:0')\n",
    "for i in range(len(layers)):\n",
    "    if i < 16:\n",
    "        model.gpt_neox.layers[i].to('cuda:0')\n",
    "    else:\n",
    "        model.gpt_neox.layers[i].to('cuda:1')"
   ]
  },
  {
   "cell_type": "code",
   "execution_count": null,
   "metadata": {},
   "outputs": [],
   "source": [
    "prompt = \"이 문장으 감정을 분류해주세요.\\n난 널 사랑해\"\n",
    "tokens = tokenizer.encode(prompt, return_tensors='pt').to(device='cuda:1', non_blocking=True)\n",
    "gen_tokens = model.generate(tokens, do_sample=True, temperature=0.1, max_new_tokens = len(tokens) + 100, pad_token_id=tokenizer.eos_token_id)\n",
    "generated = tokenizer.batch_decode(gen_tokens)[0]"
   ]
  },
  {
   "cell_type": "code",
   "execution_count": null,
   "metadata": {},
   "outputs": [],
   "source": []
  }
 ],
 "metadata": {
  "kernelspec": {
   "display_name": "prefix-tuning",
   "language": "python",
   "name": "python3"
  },
  "language_info": {
   "codemirror_mode": {
    "name": "ipython",
    "version": 3
   },
   "file_extension": ".py",
   "mimetype": "text/x-python",
   "name": "python",
   "nbconvert_exporter": "python",
   "pygments_lexer": "ipython3",
   "version": "3.8.0 (default, Nov  6 2019, 21:49:08) \n[GCC 7.3.0]"
  },
  "vscode": {
   "interpreter": {
    "hash": "1ce88742bf6c21351459820c8bc0b2f0527a315856b07cfd2141ad6b8a77d785"
   }
  }
 },
 "nbformat": 4,
 "nbformat_minor": 2
}
