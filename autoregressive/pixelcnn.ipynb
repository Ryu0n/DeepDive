{
 "cells": [
  {
   "cell_type": "code",
   "execution_count": 1,
   "metadata": {},
   "outputs": [
    {
     "name": "stdout",
     "output_type": "stream",
     "text": [
      "Downloading http://yann.lecun.com/exdb/mnist/train-images-idx3-ubyte.gz\n",
      "Downloading http://yann.lecun.com/exdb/mnist/train-images-idx3-ubyte.gz to ./data/MNIST/raw/train-images-idx3-ubyte.gz\n"
     ]
    },
    {
     "name": "stderr",
     "output_type": "stream",
     "text": [
      "100%|██████████| 9912422/9912422 [00:01<00:00, 7470124.73it/s] \n"
     ]
    },
    {
     "name": "stdout",
     "output_type": "stream",
     "text": [
      "Extracting ./data/MNIST/raw/train-images-idx3-ubyte.gz to ./data/MNIST/raw\n",
      "\n",
      "Downloading http://yann.lecun.com/exdb/mnist/train-labels-idx1-ubyte.gz\n",
      "Downloading http://yann.lecun.com/exdb/mnist/train-labels-idx1-ubyte.gz to ./data/MNIST/raw/train-labels-idx1-ubyte.gz\n"
     ]
    },
    {
     "name": "stderr",
     "output_type": "stream",
     "text": [
      "100%|██████████| 28881/28881 [00:00<00:00, 32828101.31it/s]\n"
     ]
    },
    {
     "name": "stdout",
     "output_type": "stream",
     "text": [
      "Extracting ./data/MNIST/raw/train-labels-idx1-ubyte.gz to ./data/MNIST/raw\n",
      "\n",
      "Downloading http://yann.lecun.com/exdb/mnist/t10k-images-idx3-ubyte.gz\n",
      "Downloading http://yann.lecun.com/exdb/mnist/t10k-images-idx3-ubyte.gz to ./data/MNIST/raw/t10k-images-idx3-ubyte.gz\n"
     ]
    },
    {
     "name": "stderr",
     "output_type": "stream",
     "text": [
      "100%|██████████| 1648877/1648877 [00:00<00:00, 4957685.10it/s]\n"
     ]
    },
    {
     "name": "stdout",
     "output_type": "stream",
     "text": [
      "Extracting ./data/MNIST/raw/t10k-images-idx3-ubyte.gz to ./data/MNIST/raw\n",
      "\n",
      "Downloading http://yann.lecun.com/exdb/mnist/t10k-labels-idx1-ubyte.gz\n",
      "Downloading http://yann.lecun.com/exdb/mnist/t10k-labels-idx1-ubyte.gz to ./data/MNIST/raw/t10k-labels-idx1-ubyte.gz\n"
     ]
    },
    {
     "name": "stderr",
     "output_type": "stream",
     "text": [
      "100%|██████████| 4542/4542 [00:00<00:00, 17887820.44it/s]"
     ]
    },
    {
     "name": "stdout",
     "output_type": "stream",
     "text": [
      "Extracting ./data/MNIST/raw/t10k-labels-idx1-ubyte.gz to ./data/MNIST/raw\n",
      "\n"
     ]
    },
    {
     "name": "stderr",
     "output_type": "stream",
     "text": [
      "\n"
     ]
    }
   ],
   "source": [
    "# 필요한 패키지 import\n",
    "import torch\n",
    "import torchvision\n",
    "import torchvision.transforms as transforms\n",
    "from torch.utils.data import random_split\n",
    "\n",
    "# 입력된 데이터를 변환하기 위한 코드\n",
    "# transforms는 여러 transform으로 구성될 수 있음 (리스트로 구성)\n",
    "# PIL 이미지 혹은 numpy 배열(0 ~ 255의 값을 포함)을 torch tensor(0 ~ 1의 값을 포함)으로 변환\n",
    "transform = transforms.Compose([transforms.ToTensor()])\n",
    "\n",
    "# 배치 사이즈\n",
    "batch_size = 256\n",
    "\n",
    "# MNIST 데이터셋을 없는 경우 다운로드 (transform 적용)\n",
    "trainset = torchvision.datasets.MNIST(root='./data', train=True, download=True, transform=transform)\n",
    "\n",
    "# 위에서 다운로드 받은 데이터셋을 배치 사이즈 단위로 샘플을 묶어 데이터 로더로 변환 (shuffle 과정 포함)\n",
    "# shuffle을 통해 overfitting 방지 가능\n",
    "trainloader = torch.utils.data.DataLoader(trainset, batch_size=batch_size, shuffle=True)"
   ]
  },
  {
   "cell_type": "code",
   "execution_count": 2,
   "metadata": {},
   "outputs": [
    {
     "data": {
      "image/png": "[encoded data removed]",
      "text/plain": [
       "<Figure size 2000x500 with 10 Axes>"
      ]
     },
     "metadata": {},
     "output_type": "display_data"
    }
   ],
   "source": [
    "import numpy as np\n",
    "import matplotlib.pyplot as plt\n",
    "\n",
    "num_pictures = 10\n",
    "plt.figure(figsize=(20, 5))\n",
    "\n",
    "for i in range(num_pictures):\n",
    "\t# i번째 이미지\n",
    "\timg = trainset[i][0]\n",
    "\t\n",
    "\t# (1 x num_pictures) 행의 i번째에 이미지를 출력하기 위함\n",
    "\tax = plt.subplot(1, num_pictures, i+1)\n",
    "\n",
    "\t# x, y 축 안보이게 설정\n",
    "\tax.get_xaxis().set_visible(False)\n",
    "\tax.get_yaxis().set_visible(False)\n",
    "\n",
    "\tplt.imshow(img.cpu().squeeze().numpy(), cmap='gist_gray')\n",
    "\n",
    "plt.show()"
   ]
  },
  {
   "cell_type": "code",
   "execution_count": 3,
   "metadata": {},
   "outputs": [
    {
     "name": "stdout",
     "output_type": "stream",
     "text": [
      "PixelCNN(\n",
      "  (MaskAConv): Sequential(\n",
      "    (0): MaskedCNN(1, 64, kernel_size=(7, 7), stride=(1, 1), padding=(3, 3), bias=False)\n",
      "    (1): BatchNorm2d(64, eps=1e-05, momentum=0.1, affine=True, track_running_stats=True)\n",
      "    (2): ReLU(inplace=True)\n",
      "  )\n",
      "  (MaskBConv): Sequential(\n",
      "    (0): MaskedCNN(64, 64, kernel_size=(7, 7), stride=(1, 1), padding=(3, 3), bias=False)\n",
      "    (1): BatchNorm2d(64, eps=1e-05, momentum=0.1, affine=True, track_running_stats=True)\n",
      "    (2): ReLU(inplace=True)\n",
      "    (3): MaskedCNN(64, 64, kernel_size=(7, 7), stride=(1, 1), padding=(3, 3), bias=False)\n",
      "    (4): BatchNorm2d(64, eps=1e-05, momentum=0.1, affine=True, track_running_stats=True)\n",
      "    (5): ReLU(inplace=True)\n",
      "    (6): MaskedCNN(64, 64, kernel_size=(7, 7), stride=(1, 1), padding=(3, 3), bias=False)\n",
      "    (7): BatchNorm2d(64, eps=1e-05, momentum=0.1, affine=True, track_running_stats=True)\n",
      "    (8): ReLU(inplace=True)\n",
      "    (9): MaskedCNN(64, 64, kernel_size=(7, 7), stride=(1, 1), padding=(3, 3), bias=False)\n",
      "    (10): BatchNorm2d(64, eps=1e-05, momentum=0.1, affine=True, track_running_stats=True)\n",
      "    (11): ReLU(inplace=True)\n",
      "    (12): MaskedCNN(64, 64, kernel_size=(7, 7), stride=(1, 1), padding=(3, 3), bias=False)\n",
      "    (13): BatchNorm2d(64, eps=1e-05, momentum=0.1, affine=True, track_running_stats=True)\n",
      "    (14): ReLU(inplace=True)\n",
      "    (15): MaskedCNN(64, 64, kernel_size=(7, 7), stride=(1, 1), padding=(3, 3), bias=False)\n",
      "    (16): BatchNorm2d(64, eps=1e-05, momentum=0.1, affine=True, track_running_stats=True)\n",
      "    (17): ReLU(inplace=True)\n",
      "    (18): MaskedCNN(64, 64, kernel_size=(7, 7), stride=(1, 1), padding=(3, 3), bias=False)\n",
      "    (19): BatchNorm2d(64, eps=1e-05, momentum=0.1, affine=True, track_running_stats=True)\n",
      "    (20): ReLU(inplace=True)\n",
      "    (21): MaskedCNN(64, 64, kernel_size=(7, 7), stride=(1, 1), padding=(3, 3), bias=False)\n",
      "    (22): BatchNorm2d(64, eps=1e-05, momentum=0.1, affine=True, track_running_stats=True)\n",
      "    (23): ReLU(inplace=True)\n",
      "  )\n",
      "  (out): Conv2d(64, 256, kernel_size=(1, 1), stride=(1, 1))\n",
      ")\n"
     ]
    }
   ],
   "source": [
    "import torch.nn as nn\n",
    "import torch.nn.functional as F\n",
    "\n",
    "device = torch.device(\"cuda:0\" if torch.cuda.is_available() else \"cpu\")\n",
    "\n",
    "layers = 8\n",
    "kernel = 7\n",
    "channel = 64\n",
    "\n",
    "class MaskedCNN(nn.Conv2d):\n",
    "\tdef __init__(self, mask_type, *args, **kwargs):\n",
    "\t\tself.mask_type = mask_type\n",
    "\n",
    "\t\tassert mask_type in ['A', 'B'], \"Unknown Mask Type\"\n",
    "\n",
    "\t\t# Mask\n",
    "\t\t#         -------------------------------------\n",
    "\t\t#        |  1       1       1       1       1 |\n",
    "\t\t#        |  1       1       1       1       1 |\n",
    "\t\t#        |  1       1    1 if B     0       0 |   H // 2\n",
    "\t\t#        |  0       0       0       0       0 |   H // 2 + 1\n",
    "\t\t#        |  0       0       0       0       0 |\n",
    "\t\t#         -------------------------------------\n",
    "\t\t#  index    0       1     W//2    W//2+1\n",
    "\n",
    "\t\tsuper(MaskedCNN, self).__init__(*args, **kwargs)\n",
    "\t\t\n",
    "\t\t# mask라는 이름의 buffer 생성\n",
    "\t\tself.register_buffer('mask', self.weight.data.clone())\n",
    "\t\t\n",
    "\t\t_, depth, height, width = self.weight.size()\n",
    "\n",
    "\t\t# mask를 1로 채움\n",
    "\t\tself.mask.fill_(1)\n",
    "\n",
    "\t\tif mask_type == 'A':\n",
    "\t\t\tself.mask[:, :, height//2, width//2:] = 0\n",
    "\t\t\tself.mask[:, :, height//2+1:, :] = 0\n",
    "\n",
    "\t\telif mask_type == 'B':\n",
    "\t\t\tself.mask[:, :, height//2, width//2+1] = 0\n",
    "\t\t\tself.mask[:, :, height//2+1:, :] = 0\n",
    "\n",
    "\tdef forward(self, x):\n",
    "\t\t# Convlution 연산 수행 이전에 마스크 적용\n",
    "\t\tself.weight.data *= self.mask\n",
    "\t\treturn super(MaskedCNN, self).forward(x)\n",
    "\n",
    "\n",
    "class PixelCNN(nn.Module):\n",
    "\tdef __init__(self, no_layers=8, kernel=7, channels=64, device=None):\n",
    "\t\tsuper(PixelCNN, self).__init__()\n",
    "\t\tself.no_layers = no_layers\n",
    "\t\tself.kernel = kernel\n",
    "\t\tself.channels = channels\n",
    "\t\tself.layers = {}\n",
    "\t\tself.device = device\n",
    "\n",
    "\t\tself.MaskAConv = nn.Sequential(\n",
    "\t\t\tMaskedCNN(\n",
    "\t\t\t\tmask_type='A', \n",
    "\t\t\t\tin_channels=1, \n",
    "\t\t\t\tout_channels=channels, \n",
    "\t\t\t\tkernel_size=kernel, \n",
    "\t\t\t\tstride=1, \n",
    "\t\t\t\tpadding=kernel//2, \n",
    "\t\t\t\tbias=False\n",
    "\t\t\t),\n",
    "\t\t\tnn.BatchNorm2d(channels),\n",
    "\t\t\tnn.ReLU(True)\n",
    "\t\t)\n",
    "\n",
    "\t\tMaskBConv = []\n",
    "\t\tfor i in range(8):\n",
    "\t\t\tMaskBConv.append(MaskedCNN('B', channels, channels, kernel, 1, kernel//2, bias=False))\n",
    "\t\t\tMaskBConv.append(nn.BatchNorm2d(channels))\n",
    "\t\t\tMaskBConv.append(nn.ReLU(True))\n",
    "\t\tself.MaskBConv = nn.Sequential(*MaskBConv)\n",
    "\t\tself.out = nn.Conv2d(channels, 256, 1) # 0 ~ 255 logits\n",
    "\n",
    "\tdef forward(self, x):\n",
    "\t\tx = self.MaskAConv(x)\n",
    "\t\tx = self.MaskBConv(x)\n",
    "\t\treturn self.out(x) # (batch_size, 256, height, width)\n",
    "\n",
    "model = PixelCNN().to(device)\n",
    "\n",
    "print(model)"
   ]
  },
  {
   "cell_type": "code",
   "execution_count": 5,
   "metadata": {},
   "outputs": [],
   "source": [
    "import torch.optim as optim\n",
    "\n",
    "optimizer = optim.Adam(model.parameters(), lr=0.001)\n",
    "\n",
    "criterion = nn.CrossEntropyLoss()"
   ]
  },
  {
   "cell_type": "code",
   "execution_count": 6,
   "metadata": {},
   "outputs": [],
   "source": [
    "import math\n",
    "\n",
    "no_images = 5\n",
    "images_size = 28\n",
    "images_channels = 1\n",
    "\n",
    "def sampling():\n",
    "\tmodel.eval()\n",
    "\tsample = torch.Tensor(no_images, images_channels, images_size, images_size).to(device)\n",
    "\tsample.fill_(0) # Fill the tensor with 0\n",
    "\n",
    "\t# Generating images pixel by pixel\n",
    "\tfor i in range(images_size):\n",
    "\t\tfor j in range(images_size):\n",
    "\t\t\tout = model(sample)\n",
    "\t\t\tprobs = F.softmax(out[:, :, i, j], dim=-1).data # 256 logit values per pixel\n",
    "\t\t\t\n",
    "\t\t\t# (i, j)번째에는 0값부터 255까지 나올 수 있는 확률들이 존재한다.\n",
    "\t\t\t# 255개의 확률 값들을 확률 분포로 해석하여 1개를 샘플링 한다.\n",
    "\t\t\t# 샘플링된 인덱스가 나오고 이것을 255를 max값으로 가정하고 정규화한다.\n",
    "\t\t\tsample[:, :, i, j] = torch.multinomial(input=probs, num_samples=1).float() / 255.0\n",
    "\n",
    "\tplt.figure(figsize=(10, 10))\n",
    "\tfor i in range(no_images):\n",
    "\t\tax = plt.subplot(1, no_images, i+1)\n",
    "\t\tax.get_xaxis().set_visible(False)\n",
    "\t\tax.get_yaxis().set_visible(False)\n",
    "\t\tplt.imshow(transforms.ToPILImage()(sample[i, :, :, :]), interplation=\"bicubic\", cmap=\"gist_gray\")\n",
    "\tplt.show()"
   ]
  },
  {
   "cell_type": "code",
   "execution_count": 7,
   "metadata": {},
   "outputs": [
    {
     "name": "stderr",
     "output_type": "stream",
     "text": [
      "epoch : 1 of 100, loss : 5.620:   0%|          | 1/234 [01:00<3:54:45, 60.45s/it]"
     ]
    }
   ],
   "source": [
    "from tqdm import tqdm\n",
    "\n",
    "num_epochs = 100\n",
    "\n",
    "for epoch in range(num_epochs):\n",
    "\tmodel.train()\n",
    "\trunning_loss = 0.0\n",
    "\n",
    "\t# pbar 길이 : batch 갯수\n",
    "\tpbar = tqdm(enumerate(trainloader, 0), total=int(len(trainset) / trainloader.batch_size))\n",
    "\n",
    "\tfor i, data in pbar:\n",
    "\t\t# input tensor : (batch_size, channels, height, width)\n",
    "\t\tinputs, _ = data\n",
    "\t\ttarget = (inputs[:, 0, :, :] * 255).long()\n",
    "\t\t\n",
    "\t\tinputs = inputs.to(device)\n",
    "\t\ttarget = target.to(device)\n",
    "\n",
    "\t\toptimizer.zero_grad()\n",
    "\t\t\n",
    "\t\toutputs = model(inputs)\n",
    "\t\t# outputs : (batch_size, 256, height, width) -> logits\n",
    "\t\t# target : (batch_size, 1, height, width) -> label\n",
    "\t\tloss = criterion(outputs, target)\n",
    "\t\tloss.backward()\n",
    "\t\toptimizer.step()\n",
    "\n",
    "\t\trunning_loss += loss.item()\n",
    "\t\tpbar.set_description(f'epoch : {epoch + 1} of {num_epochs}, loss : {running_loss / (i+1):.3f}')\n",
    "\n",
    "\tsampling()\n",
    "\n",
    "print('Training Finished')\t\t\n",
    "\n",
    "PATH = './savedModel.pth'\n",
    "torch.save(model.state_dict(), PATH)"
   ]
  },
  {
   "cell_type": "code",
   "execution_count": null,
   "metadata": {},
   "outputs": [],
   "source": []
  }
 ],
 "metadata": {
  "kernelspec": {
   "display_name": "DeepImplement",
   "language": "python",
   "name": "python3"
  },
  "language_info": {
   "codemirror_mode": {
    "name": "ipython",
    "version": 3
   },
   "file_extension": ".py",
   "mimetype": "text/x-python",
   "name": "python",
   "nbconvert_exporter": "python",
   "pygments_lexer": "ipython3",
   "version": "3.8.0"
  },
  "orig_nbformat": 4
 },
 "nbformat": 4,
 "nbformat_minor": 2
}
