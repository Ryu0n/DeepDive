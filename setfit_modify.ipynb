{
 "cells": [
  {
   "cell_type": "code",
   "execution_count": 1,
   "metadata": {},
   "outputs": [
    {
     "name": "stderr",
     "output_type": "stream",
     "text": [
      "/home/shawn/anaconda3/envs/torch/lib/python3.8/site-packages/tqdm/auto.py:22: TqdmWarning: IProgress not found. Please update jupyter and ipywidgets. See https://ipywidgets.readthedocs.io/en/stable/user_install.html\n",
      "  from .autonotebook import tqdm as notebook_tqdm\n"
     ]
    }
   ],
   "source": [
    "import time\n",
    "import torch\n",
    "import pandas as pd\n",
    "from datasets import load_dataset\n",
    "from sentence_transformers.losses import CosineSimilarityLoss\n",
    "from setfit import SetFitModel, SetFitTrainer\n",
    "from torch.cuda import is_available\n",
    "\n",
    "device = 'cuda:1' if is_available() else 'cpu'"
   ]
  },
  {
   "cell_type": "code",
   "execution_count": 2,
   "metadata": {},
   "outputs": [],
   "source": [
    "def load_custom_dataset(category: str, num_samples: int):\n",
    "    return load_dataset(\n",
    "        'csv',\n",
    "        data_files={\n",
    "            \"train\": [f\"data/df_{category}_{num_samples}_train.csv\"],\n",
    "            \"eval\": [f\"data/df_{category}_{num_samples}_test.csv\"]\n",
    "        },\n",
    "        cache_dir=\"./\"\n",
    "    )"
   ]
  },
  {
   "cell_type": "code",
   "execution_count": 3,
   "metadata": {},
   "outputs": [],
   "source": [
    "def load_model():\n",
    "    model_id = \"jhgan/ko-sroberta-multitask\"\n",
    "    model = SetFitModel.from_pretrained(model_id)\n",
    "    model.to(device)\n",
    "    return model"
   ]
  },
  {
   "cell_type": "code",
   "execution_count": 4,
   "metadata": {},
   "outputs": [],
   "source": [
    "def load_trainer(model, dataset, category):\n",
    "    return SetFitTrainer(\n",
    "        model=model,\n",
    "        train_dataset=dataset['train'],\n",
    "        eval_dataset=dataset['eval'],\n",
    "        loss_class=CosineSimilarityLoss,\n",
    "        metric=\"f1\",\n",
    "        batch_size=16,\n",
    "        num_iterations=20,  # The number of text pairs to generate for contrastive learning\n",
    "        num_epochs=1,  # The number of epochs to use for contrastive learning\n",
    "        column_mapping={\"text\": \"text\", category: \"label\"}  # Map dataset columns to text/label expected by trainer\n",
    "    )"
   ]
  },
  {
   "cell_type": "code",
   "execution_count": 5,
   "metadata": {},
   "outputs": [
    {
     "name": "stderr",
     "output_type": "stream",
     "text": [
      "model_head.pkl not found on HuggingFace Hub, initialising classification head with random weights. You should TRAIN this model on a downstream task to use it for predictions and inference.\n",
      "Found cached dataset csv (/home/shawn/workspace/setfit_modify/csv/default-0afb0212e27b43bf/0.0.0/6b34fb8fcf56f7c8ba51dc895bfa2bfbe43546f190a60fcf74bb5e8afdcc2317)\n",
      "100%|██████████| 2/2 [00:00<00:00, 566.99it/s]\n",
      "Applying column mapping to training dataset\n"
     ]
    },
    {
     "name": "stdout",
     "output_type": "stream",
     "text": [
      "DatasetDict({\n",
      "    train: Dataset({\n",
      "        features: ['Unnamed: 0', 'text', '가격'],\n",
      "        num_rows: 20000\n",
      "    })\n",
      "    eval: Dataset({\n",
      "        features: ['Unnamed: 0', 'text', '가격'],\n",
      "        num_rows: 3040\n",
      "    })\n",
      "})\n"
     ]
    },
    {
     "name": "stderr",
     "output_type": "stream",
     "text": [
      "***** Running training *****\n",
      "  Num examples = 800000\n",
      "  Num epochs = 1\n",
      "  Total optimization steps = 50000\n",
      "  Total train batch size = 16\n",
      "Iteration: 100%|██████████| 50000/50000 [1:29:10<00:00,  9.34it/s]\n",
      "Epoch: 100%|██████████| 1/1 [1:29:10<00:00, 5350.98s/it]\n",
      "Applying column mapping to evaluation dataset\n",
      "***** Running evaluation *****\n"
     ]
    },
    {
     "name": "stdout",
     "output_type": "stream",
     "text": [
      "{'f1': 0.9516235917826376} \n",
      "\n"
     ]
    },
    {
     "name": "stderr",
     "output_type": "stream",
     "text": [
      "model_head.pkl not found on HuggingFace Hub, initialising classification head with random weights. You should TRAIN this model on a downstream task to use it for predictions and inference.\n"
     ]
    },
    {
     "name": "stdout",
     "output_type": "stream",
     "text": [
      "Downloading and preparing dataset csv/default to /home/shawn/workspace/setfit_modify/csv/default-89a294f39df41b18/0.0.0/6b34fb8fcf56f7c8ba51dc895bfa2bfbe43546f190a60fcf74bb5e8afdcc2317...\n"
     ]
    },
    {
     "name": "stderr",
     "output_type": "stream",
     "text": [
      "Downloading data files: 100%|██████████| 2/2 [00:00<00:00, 5928.34it/s]\n",
      "Extracting data files: 100%|██████████| 2/2 [00:00<00:00, 347.18it/s]\n",
      "Generating train split: 0 examples [00:00, ? examples/s]/home/shawn/anaconda3/envs/torch/lib/python3.8/site-packages/datasets/download/streaming_download_manager.py:776: FutureWarning: the 'mangle_dupe_cols' keyword is deprecated and will be removed in a future version. Please take steps to stop the use of 'mangle_dupe_cols'\n",
      "  return pd.read_csv(xopen(filepath_or_buffer, \"rb\", use_auth_token=use_auth_token), **kwargs)\n",
      "Generating eval split: 0 examples [00:00, ? examples/s]            /home/shawn/anaconda3/envs/torch/lib/python3.8/site-packages/datasets/download/streaming_download_manager.py:776: FutureWarning: the 'mangle_dupe_cols' keyword is deprecated and will be removed in a future version. Please take steps to stop the use of 'mangle_dupe_cols'\n",
      "  return pd.read_csv(xopen(filepath_or_buffer, \"rb\", use_auth_token=use_auth_token), **kwargs)\n",
      "                                                       \r"
     ]
    },
    {
     "name": "stdout",
     "output_type": "stream",
     "text": [
      "Dataset csv downloaded and prepared to /home/shawn/workspace/setfit_modify/csv/default-89a294f39df41b18/0.0.0/6b34fb8fcf56f7c8ba51dc895bfa2bfbe43546f190a60fcf74bb5e8afdcc2317. Subsequent calls will reuse this data.\n"
     ]
    },
    {
     "name": "stderr",
     "output_type": "stream",
     "text": [
      "100%|██████████| 2/2 [00:00<00:00, 624.90it/s]\n",
      "Applying column mapping to training dataset\n"
     ]
    },
    {
     "name": "stdout",
     "output_type": "stream",
     "text": [
      "DatasetDict({\n",
      "    train: Dataset({\n",
      "        features: ['Unnamed: 0', 'text', '품질'],\n",
      "        num_rows: 20000\n",
      "    })\n",
      "    eval: Dataset({\n",
      "        features: ['Unnamed: 0', 'text', '품질'],\n",
      "        num_rows: 12992\n",
      "    })\n",
      "})\n"
     ]
    },
    {
     "name": "stderr",
     "output_type": "stream",
     "text": [
      "***** Running training *****\n",
      "  Num examples = 800000\n",
      "  Num epochs = 1\n",
      "  Total optimization steps = 50000\n",
      "  Total train batch size = 16\n",
      "Iteration: 100%|██████████| 50000/50000 [1:29:51<00:00,  9.27it/s]\n",
      "Epoch: 100%|██████████| 1/1 [1:29:51<00:00, 5391.13s/it]\n",
      "Applying column mapping to evaluation dataset\n",
      "***** Running evaluation *****\n"
     ]
    },
    {
     "name": "stdout",
     "output_type": "stream",
     "text": [
      "{'f1': 0.8855621575738869} \n",
      "\n"
     ]
    }
   ],
   "source": [
    "categories = {\n",
    "    \"디자인\": \"disign\",\n",
    "    \"서비스\": \"service\",\n",
    "    \"브랜드제품기타\": \"brand\",\n",
    "    \"가격\": \"price\",\n",
    "    \"품질\": \"quality\"\n",
    "}\n",
    "\n",
    "num_samples = 20000\n",
    "\n",
    "for category, category_en in categories.items():\n",
    "    contents = {\n",
    "        \"category\": [],\n",
    "        \"f1\": []\n",
    "    }\n",
    "\n",
    "    model = load_model()\n",
    "    dataset = load_custom_dataset(category=category, num_samples=num_samples)\n",
    "    print(dataset)\n",
    "    trainer = load_trainer(model, dataset, category)\n",
    "    trainer.train()\n",
    "    metrics = trainer.evaluate()\n",
    "    contents[\"category\"].append(category)\n",
    "    contents[\"f1\"].append(metrics.get('f1'))\n",
    "    print(metrics, '\\n')\n",
    "    df = pd.DataFrame(contents)\n",
    "    df.to_csv(f\"result-{category_en}-{num_samples}.csv\")\n",
    "    model.save_pretrained(f\"{category_en}-{num_samples}.pt\")"
   ]
  }
 ],
 "metadata": {
  "kernelspec": {
   "display_name": "Python 3",
   "language": "python",
   "name": "python3"
  },
  "language_info": {
   "codemirror_mode": {
    "name": "ipython",
    "version": 3
   },
   "file_extension": ".py",
   "mimetype": "text/x-python",
   "name": "python",
   "nbconvert_exporter": "python",
   "pygments_lexer": "ipython3",
   "version": "3.9.6"
  },
  "orig_nbformat": 4,
  "vscode": {
   "interpreter": {
    "hash": "31f2aee4e71d21fbe5cf8b01ff0e069b9275f58929596ceb00d14d90e3e16cd6"
   }
  }
 },
 "nbformat": 4,
 "nbformat_minor": 2
}
